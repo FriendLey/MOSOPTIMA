{
 "cells": [
  {
   "cell_type": "code",
   "execution_count": 1,
   "id": "e6feca3e-0222-4fff-a7a9-1a62f750c23f",
   "metadata": {},
   "outputs": [],
   "source": [
    "import os\n",
    "import glob\n",
    "import pandas as pd\n",
    "import numpy as np"
   ]
  },
  {
   "cell_type": "code",
   "execution_count": 2,
   "id": "7faebb58-7d8b-4710-9e25-6cd2cd75b398",
   "metadata": {},
   "outputs": [
    {
     "name": "stdout",
     "output_type": "stream",
     "text": [
      "['expt_details_all/expt_detail_30883710_2.csv', 'expt_details_all/expt_detail_27672397_0.csv', 'expt_details_all/expt_detail_30883710_0.csv', 'expt_details_all/expt_detail_30883710_1.csv', 'expt_details_all/expt_detail_36978456_0.csv', 'expt_details_all/expt_detail_35864561_0.csv', 'expt_details_all/expt_detail_27672397_1.csv', 'expt_details_all/expt_detail_29966088_0.csv', 'expt_details_all/expt_detail_35405676_0.csv', 'expt_details_all/expt_detail_32325381_0.csv', 'expt_details_all/expt_detail_10045738_0.csv', 'expt_details_all/expt_detail_35733501_0.csv']\n"
     ]
    }
   ],
   "source": [
    "file_names = glob.glob('expt_details_all/*.csv')\n",
    "print(file_names)\n",
    "# for file_name in file_names:\n",
    "#     print(file_name)\n",
    "#     redunt_data = pd.read_csv(file_name)\n",
    "#     res_data = redunt_data[['ds', 'metric_id', 'exptid', 'groupid', 'groupname', 'uin', 'numerator', 'denominator']]\n",
    "#     res_file_name = os.path.join('expt_details_clean', file_name.split('/')[-1])\n",
    "#     print(res_file_name)\n",
    "#     res_data.to_csv(file_name)"
   ]
  },
  {
   "cell_type": "code",
   "execution_count": 3,
   "id": "f7bf7ac3-012b-43f8-ab8f-cdf32ac98c7a",
   "metadata": {},
   "outputs": [],
   "source": [
    "def preview(file_name):\n",
    "    print(file_name)\n",
    "    data = pd.read_csv(file_name)\n",
    "    print(data.head())\n",
    "    data[\"metric\"] = data[\"numerator\"]/data[\"denominator\"]\n",
    "    def pop_std(x):\n",
    "        return x.std(ddof=0)\n",
    "    print(data.groupby(['metric_id']).agg({'metric': ['mean']}))\n",
    "    return data.groupby(['metric_id', 'groupid']).agg({'metric': ['mean', 'std', pop_std, 'min', 'median', 'max'], 'uin': ['count', 'nunique']})\n",
    "# preview(file_names[11])"
   ]
  },
  {
   "cell_type": "code",
   "execution_count": 4,
   "id": "8e14456d-a1b1-4ab3-afab-39bd25145fa5",
   "metadata": {},
   "outputs": [],
   "source": [
    "# data = pd.read_csv(os.path.join('expt_details_clean', 'metaid_1.csv'))\n",
    "# data.groupby(['metric_id', 'groupid']).count()"
   ]
  },
  {
   "cell_type": "code",
   "execution_count": 11,
   "id": "b20afee1-22a8-4300-99b8-9ad0109ba5f7",
   "metadata": {},
   "outputs": [
    {
     "name": "stdout",
     "output_type": "stream",
     "text": [
      "{'id': 7, 'origin_filename': 'expt_detail_30883710_0.csv', 'include_metric_ids': [21898, 21897, 21895, 21713, 21711], 'include_group_names': ['A1', 'B6', 'B7', 'B8', 'B9', 'B10', 'B11', 'B12']}\n",
      "{'id': 8, 'origin_filename': 'expt_detail_30883710_1.csv', 'include_metric_ids': [24404, 24399], 'include_group_names': ['A1', 'B6', 'B7', 'B8', 'B9', 'B10', 'B11', 'B12']}\n",
      "{'id': 9, 'origin_filename': 'expt_detail_30883710_1.csv', 'include_metric_ids': [21913, 21912, 21911, 21910], 'include_group_names': ['A1', 'B6', 'B7', 'B8', 'B9', 'B10', 'B11', 'B12']}\n",
      "{'id': 10, 'origin_filename': 'expt_detail_30883710_1.csv', 'include_metric_ids': [25465, 25463, 25438], 'include_group_names': ['A1', 'B6', 'B7', 'B8', 'B9', 'B10', 'B11', 'B12']}\n",
      "{'id': 11, 'origin_filename': 'expt_detail_30883710_1.csv', 'include_metric_ids': [25448, 24500], 'include_group_names': ['A1', 'B6', 'B7', 'B8', 'B9', 'B10', 'B11', 'B12']}\n",
      "{'id': 12, 'origin_filename': 'expt_detail_35864561_0.csv', 'include_metric_ids': [34044, 34043, 34039], 'include_group_names': ['A1', 'B1', 'B2', 'B3', 'B4'], 'truncate_sample_size': 150000}\n",
      "{'id': 13, 'origin_filename': 'expt_detail_35864561_0.csv', 'include_metric_ids': [38849, 20733], 'include_group_names': ['A1', 'B1', 'B2', 'B3', 'B4'], 'truncate_sample_size': 150000}\n",
      "{'id': 14, 'origin_filename': 'expt_detail_35864561_0.csv', 'include_metric_ids': [20732, 20731, 20711], 'include_group_names': ['A1', 'B1', 'B2', 'B3', 'B4'], 'truncate_sample_size': 150000}\n",
      "{'id': 15, 'origin_filename': 'expt_detail_27672397_1.csv', 'include_metric_ids': [24414, 24404, 21913], 'include_group_names': ['A1', 'B6', 'B7', 'B8', 'B9', 'B10', 'B11', 'B12', 'B13', 'B14'], 'truncate_sample_size': 70000}\n",
      "{'id': 16, 'origin_filename': 'expt_detail_27672397_1.csv', 'include_metric_ids': [21907, 25449, 25448, 24500], 'include_group_names': ['A1', 'B6', 'B7', 'B8', 'B9', 'B10', 'B11', 'B12', 'B13', 'B14'], 'truncate_sample_size': 46000}\n",
      "{'id': 17, 'origin_filename': 'expt_detail_27672397_1.csv', 'include_metric_ids': [21903, 25438, 25314], 'include_group_names': ['A1', 'B6', 'B7', 'B8', 'B9', 'B10', 'B11', 'B12', 'B13', 'B14'], 'truncate_sample_size': 70000}\n",
      "{'id': 18, 'origin_filename': 'expt_detail_29966088_0.csv', 'include_metric_ids': [21911, 29336, 29330], 'include_group_names': ['A1', 'B6', 'B7', 'B8'], 'truncate_sample_size': 40000}\n",
      "{'id': 19, 'origin_filename': 'expt_detail_29966088_0.csv', 'include_metric_ids': [21909, 28428], 'include_group_names': ['A1', 'B6', 'B7', 'B8'], 'truncate_sample_size': 40000}\n",
      "{'id': 20, 'origin_filename': 'expt_detail_32325381_0.csv', 'include_metric_ids': [38849, 38847, 34044, 34038], 'include_group_names': ['A1', 'B6', 'B7', 'B9', 'B10'], 'truncate_sample_size': 50000}\n",
      "{'id': 21, 'origin_filename': 'expt_detail_32325381_0.csv', 'include_metric_ids': [27864, 27863], 'include_group_names': ['A1', 'B6', 'B7', 'B9', 'B10'], 'truncate_sample_size': 50000}\n",
      "{'id': 22, 'origin_filename': 'expt_detail_35733501_0.csv', 'include_metric_ids': [27441, 27435, 21913], 'include_group_names': ['A1', 'B4', 'B5', 'B6', 'B7'], 'truncate_sample_size': 50000}\n",
      "{'id': 23, 'origin_filename': 'expt_detail_35733501_0.csv', 'include_metric_ids': [21903, 21895, 21711, 26350, 20730, 20711], 'include_group_names': ['A1', 'B4', 'B5', 'B6', 'B7'], 'truncate_sample_size': 50000}\n"
     ]
    }
   ],
   "source": [
    "from meta_data import expt_metadatas\n",
    "for meta in expt_metadatas[6:]:\n",
    "    print(meta)\n",
    "    data = pd.read_csv(os.path.join('expt_details_all', meta['origin_filename']))\n",
    "    data = data[['metric_id', 'exptid', 'groupid', 'groupname', 'uin', 'numerator', 'denominator']]\n",
    "    data = data[((data['metric_id'].isin(meta['include_metric_ids'])) & (data['groupname'].isin(meta['include_group_names'])))]\n",
    "    truncate_sample_size = min(data.groupby(['metric_id', 'groupid']).count()['exptid'])\n",
    "    if 'truncate_sample_size' in meta and truncate_sample_size > meta['truncate_sample_size']:\n",
    "        truncate_sample_size = meta['truncate_sample_size']\n",
    "    data = data.groupby(['metric_id', 'groupid']).sample(truncate_sample_size)\n",
    "    data.to_csv(os.path.join('expt_details_clean', 'metaid_' + str(meta['id']) + '.csv'))"
   ]
  },
  {
   "cell_type": "code",
   "execution_count": 9,
   "id": "1b2da5a4-f47e-485c-b680-0d545bc58ac8",
   "metadata": {},
   "outputs": [],
   "source": []
  }
 ],
 "metadata": {
  "kernelspec": {
   "display_name": "Python 3 (ipykernel)",
   "language": "python",
   "name": "python3"
  },
  "language_info": {
   "codemirror_mode": {
    "name": "ipython",
    "version": 3
   },
   "file_extension": ".py",
   "mimetype": "text/x-python",
   "name": "python",
   "nbconvert_exporter": "python",
   "pygments_lexer": "ipython3",
   "version": "3.7.13"
  }
 },
 "nbformat": 4,
 "nbformat_minor": 5
}
