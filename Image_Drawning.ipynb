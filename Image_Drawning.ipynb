{
 "cells": [
  {
   "cell_type": "code",
   "execution_count": 32,
   "metadata": {},
   "outputs": [],
   "source": [
    "import os\n",
    "import numpy as np\n",
    "import pandas as pd\n",
    "import plotly\n",
    "import plotly.express as px\n",
    "import plotly.graph_objects as go\n",
    "from plotly.subplots import make_subplots"
   ]
  },
  {
   "cell_type": "code",
   "execution_count": 33,
   "metadata": {},
   "outputs": [],
   "source": [
    "my_legends = [\"ES\", \"A/B\", \"TSS\", \"UCBS\", \"EGS\", \"PSI\", \"UES\"]\n",
    "my_colors = ['red', 'lime', 'blueviolet', 'maroon', 'darkgray', 'black', \"yellowgreen\"]\n",
    "my_symbols = ['square', 'circle', 'triangle-up', 'x', 'diamond', 'pentagon', \"star\"]\n",
    "my_l2c, my_l2s = dict(), dict()\n",
    "for i, legend in enumerate(my_legends):\n",
    "    my_l2c[legend] = my_colors[i]\n",
    "    my_l2s[legend] = my_symbols[i]"
   ]
  },
  {
   "cell_type": "code",
   "execution_count": 34,
   "metadata": {},
   "outputs": [],
   "source": [
    "def sd_return_fig(algos, key2data, max_rewards, display_row_xaxis = True, xrange_rows = [], marker_size = 12, line_add = 0.8):\n",
    "    text = \"$\\sigma$\"\n",
    "    fig = make_subplots(\n",
    "        rows = 2, cols = len(key2data),\n",
    "        y_title=\"Power\",\n",
    "        column_titles = list(key2data.keys()),\n",
    "        shared_yaxes=True,\n",
    "        horizontal_spacing=0.03,\n",
    "        vertical_spacing=0.15,\n",
    "    )\n",
    "    for i, (key, data) in enumerate(key2data.items()):\n",
    "        scatters, rows, cols = list(), list(), list()\n",
    "        for j, algo in enumerate(algos):\n",
    "            # power reward trade-off\n",
    "            scatters.append(\n",
    "                go.Scatter(\n",
    "                    x=[data[algo][\"regret\"] / max_rewards],\n",
    "                    y=[data[algo][\"power\"]],\n",
    "                    legendgroup=algo,\n",
    "                    mode=\"markers\",\n",
    "                    marker=go.scatter.Marker(\n",
    "                        color=[my_l2c[algo]],\n",
    "                        symbol=[my_l2s[algo]],\n",
    "                        size=marker_size,\n",
    "                    ), \n",
    "                    name=algo,\n",
    "                    orientation='h',\n",
    "                    showlegend=True if i == 0 else False,\n",
    "                    xaxis='x',\n",
    "                    yaxis='y',\n",
    "                )\n",
    "            )\n",
    "            rows.append(1),\n",
    "            cols.append(i + 1),\n",
    "            # power sample size trade-off\n",
    "            scatters.append(\n",
    "                go.Scatter(\n",
    "                    x=[data[algo][\"samples\"]],\n",
    "                    y=[data[algo][\"power\"]],\n",
    "                    legendgroup=algo,\n",
    "                    mode=\"markers\",\n",
    "                    marker=go.scatter.Marker(\n",
    "                        color=[my_l2c[algo]],\n",
    "                        symbol=[my_l2s[algo]],\n",
    "                        size=marker_size,\n",
    "                    ), \n",
    "                    name=algo,\n",
    "                    orientation='h',\n",
    "                    showlegend=False,\n",
    "                    xaxis='x',\n",
    "                    yaxis='y',\n",
    "                )\n",
    "            )\n",
    "            rows.append(2),\n",
    "            cols.append(i + 1),\n",
    "        fig.add_traces(\n",
    "            scatters, rows=rows, cols=cols\n",
    "        )\n",
    "    \n",
    "    fig.add_hline(line_add)\n",
    "    fig.update_layout(\n",
    "        legend=dict(\n",
    "            orientation='h',\n",
    "            x=0.33,\n",
    "            y=-0.15,\n",
    "        ),\n",
    "        height=800,\n",
    "        width=1600,\n",
    "        plot_bgcolor='rgb(242,242,242)',\n",
    "        font_size=16,\n",
    "    )\n",
    "    if display_row_xaxis:\n",
    "        fig.update_xaxes(title_text=\"Normalized averaged regrets\", row=1, col=3)\n",
    "        fig.update_xaxes(title_text=\"Averaged sample size per arm\", row=2, col=3)\n",
    "    for i, xrange in enumerate(xrange_rows):\n",
    "        for j in range(len(key2data.keys())):\n",
    "            fig.update_xaxes(range=xrange, row=i + 1, col=j + 1)\n",
    "    fig.update_annotations(font=dict(size=20))\n",
    "    return fig"
   ]
  },
  {
   "cell_type": "code",
   "execution_count": 35,
   "metadata": {},
   "outputs": [],
   "source": [
    "def get_key2data(df, idx2key, algos):\n",
    "    power_idx, sample_idx, regret_idx = 0, 1, 2\n",
    "    key2data = dict()\n",
    "    for idx, key in idx2key.items():\n",
    "        key2data[key] = dict()\n",
    "        for algo in algos:\n",
    "            key2data[key][algo] = dict()\n",
    "    for idx, key in idx2key.items():\n",
    "        for algo in algos:\n",
    "            key2data[key][algo][\"power\"] = df.iloc[int(idx)][f\"{algo}_{power_idx}\"]\n",
    "            key2data[key][algo][\"samples\"] = df.iloc[int(idx)][f\"{algo}_{sample_idx}\"]\n",
    "            key2data[key][algo][\"regret\"] = df.iloc[int(idx)][f\"{algo}_{regret_idx}\"]\n",
    "    return key2data"
   ]
  },
  {
   "cell_type": "code",
   "execution_count": 36,
   "metadata": {},
   "outputs": [
    {
     "data": {
      "text/html": [
       "<div>\n",
       "<style scoped>\n",
       "    .dataframe tbody tr th:only-of-type {\n",
       "        vertical-align: middle;\n",
       "    }\n",
       "\n",
       "    .dataframe tbody tr th {\n",
       "        vertical-align: top;\n",
       "    }\n",
       "\n",
       "    .dataframe thead th {\n",
       "        text-align: right;\n",
       "    }\n",
       "</style>\n",
       "<table border=\"1\" class=\"dataframe\">\n",
       "  <thead>\n",
       "    <tr style=\"text-align: right;\">\n",
       "      <th></th>\n",
       "      <th>ES_0</th>\n",
       "      <th>ES_1</th>\n",
       "      <th>ES_2</th>\n",
       "      <th>UES_0</th>\n",
       "      <th>UES_1</th>\n",
       "      <th>UES_2</th>\n",
       "      <th>TSS_0</th>\n",
       "      <th>TSS_1</th>\n",
       "      <th>TSS_2</th>\n",
       "      <th>UCBS_0</th>\n",
       "      <th>...</th>\n",
       "      <th>UCBS_2</th>\n",
       "      <th>EGS_0</th>\n",
       "      <th>EGS_1</th>\n",
       "      <th>EGS_2</th>\n",
       "      <th>PSI_0</th>\n",
       "      <th>PSI_1</th>\n",
       "      <th>PSI_2</th>\n",
       "      <th>A/B_0</th>\n",
       "      <th>A/B_1</th>\n",
       "      <th>A/B_2</th>\n",
       "    </tr>\n",
       "  </thead>\n",
       "  <tbody>\n",
       "    <tr>\n",
       "      <th>0</th>\n",
       "      <td>0.706</td>\n",
       "      <td>915.439</td>\n",
       "      <td>0.0070</td>\n",
       "      <td>0.649</td>\n",
       "      <td>954.111</td>\n",
       "      <td>0.0302</td>\n",
       "      <td>0.563</td>\n",
       "      <td>993.606</td>\n",
       "      <td>0.0079</td>\n",
       "      <td>0.702</td>\n",
       "      <td>...</td>\n",
       "      <td>0.0121</td>\n",
       "      <td>0.485</td>\n",
       "      <td>1062.337</td>\n",
       "      <td>0.0051</td>\n",
       "      <td>0.212</td>\n",
       "      <td>1127.484</td>\n",
       "      <td>0.0156</td>\n",
       "      <td>0.161</td>\n",
       "      <td>1000</td>\n",
       "      <td>0.0352</td>\n",
       "    </tr>\n",
       "    <tr>\n",
       "      <th>1</th>\n",
       "      <td>0.796</td>\n",
       "      <td>741.297</td>\n",
       "      <td>0.0091</td>\n",
       "      <td>0.747</td>\n",
       "      <td>768.689</td>\n",
       "      <td>0.0412</td>\n",
       "      <td>0.681</td>\n",
       "      <td>830.362</td>\n",
       "      <td>0.0105</td>\n",
       "      <td>0.790</td>\n",
       "      <td>...</td>\n",
       "      <td>0.0166</td>\n",
       "      <td>0.622</td>\n",
       "      <td>856.454</td>\n",
       "      <td>0.0068</td>\n",
       "      <td>0.389</td>\n",
       "      <td>985.004</td>\n",
       "      <td>0.0169</td>\n",
       "      <td>0.291</td>\n",
       "      <td>1000</td>\n",
       "      <td>0.0495</td>\n",
       "    </tr>\n",
       "    <tr>\n",
       "      <th>2</th>\n",
       "      <td>0.855</td>\n",
       "      <td>621.434</td>\n",
       "      <td>0.0124</td>\n",
       "      <td>0.815</td>\n",
       "      <td>633.961</td>\n",
       "      <td>0.0549</td>\n",
       "      <td>0.782</td>\n",
       "      <td>684.179</td>\n",
       "      <td>0.0142</td>\n",
       "      <td>0.840</td>\n",
       "      <td>...</td>\n",
       "      <td>0.0261</td>\n",
       "      <td>0.721</td>\n",
       "      <td>712.528</td>\n",
       "      <td>0.0091</td>\n",
       "      <td>0.525</td>\n",
       "      <td>725.140</td>\n",
       "      <td>0.0182</td>\n",
       "      <td>0.437</td>\n",
       "      <td>1000</td>\n",
       "      <td>0.0707</td>\n",
       "    </tr>\n",
       "    <tr>\n",
       "      <th>3</th>\n",
       "      <td>0.914</td>\n",
       "      <td>460.124</td>\n",
       "      <td>0.0229</td>\n",
       "      <td>0.883</td>\n",
       "      <td>490.000</td>\n",
       "      <td>0.0806</td>\n",
       "      <td>0.847</td>\n",
       "      <td>523.918</td>\n",
       "      <td>0.0202</td>\n",
       "      <td>0.899</td>\n",
       "      <td>...</td>\n",
       "      <td>0.0523</td>\n",
       "      <td>0.814</td>\n",
       "      <td>543.343</td>\n",
       "      <td>0.0129</td>\n",
       "      <td>0.698</td>\n",
       "      <td>512.658</td>\n",
       "      <td>0.0213</td>\n",
       "      <td>0.623</td>\n",
       "      <td>1000</td>\n",
       "      <td>0.1112</td>\n",
       "    </tr>\n",
       "    <tr>\n",
       "      <th>4</th>\n",
       "      <td>0.942</td>\n",
       "      <td>390.513</td>\n",
       "      <td>0.0362</td>\n",
       "      <td>0.924</td>\n",
       "      <td>407.035</td>\n",
       "      <td>0.1078</td>\n",
       "      <td>0.890</td>\n",
       "      <td>439.611</td>\n",
       "      <td>0.0265</td>\n",
       "      <td>0.937</td>\n",
       "      <td>...</td>\n",
       "      <td>0.0830</td>\n",
       "      <td>0.876</td>\n",
       "      <td>467.199</td>\n",
       "      <td>0.0158</td>\n",
       "      <td>0.781</td>\n",
       "      <td>368.422</td>\n",
       "      <td>0.0237</td>\n",
       "      <td>0.723</td>\n",
       "      <td>1000</td>\n",
       "      <td>0.1575</td>\n",
       "    </tr>\n",
       "  </tbody>\n",
       "</table>\n",
       "<p>5 rows × 21 columns</p>\n",
       "</div>"
      ],
      "text/plain": [
       "    ES_0     ES_1    ES_2  UES_0    UES_1   UES_2  TSS_0    TSS_1   TSS_2  \\\n",
       "0  0.706  915.439  0.0070  0.649  954.111  0.0302  0.563  993.606  0.0079   \n",
       "1  0.796  741.297  0.0091  0.747  768.689  0.0412  0.681  830.362  0.0105   \n",
       "2  0.855  621.434  0.0124  0.815  633.961  0.0549  0.782  684.179  0.0142   \n",
       "3  0.914  460.124  0.0229  0.883  490.000  0.0806  0.847  523.918  0.0202   \n",
       "4  0.942  390.513  0.0362  0.924  407.035  0.1078  0.890  439.611  0.0265   \n",
       "\n",
       "   UCBS_0  ...  UCBS_2  EGS_0     EGS_1   EGS_2  PSI_0     PSI_1   PSI_2  \\\n",
       "0   0.702  ...  0.0121  0.485  1062.337  0.0051  0.212  1127.484  0.0156   \n",
       "1   0.790  ...  0.0166  0.622   856.454  0.0068  0.389   985.004  0.0169   \n",
       "2   0.840  ...  0.0261  0.721   712.528  0.0091  0.525   725.140  0.0182   \n",
       "3   0.899  ...  0.0523  0.814   543.343  0.0129  0.698   512.658  0.0213   \n",
       "4   0.937  ...  0.0830  0.876   467.199  0.0158  0.781   368.422  0.0237   \n",
       "\n",
       "   A/B_0  A/B_1   A/B_2  \n",
       "0  0.161   1000  0.0352  \n",
       "1  0.291   1000  0.0495  \n",
       "2  0.437   1000  0.0707  \n",
       "3  0.623   1000  0.1112  \n",
       "4  0.723   1000  0.1575  \n",
       "\n",
       "[5 rows x 21 columns]"
      ]
     },
     "execution_count": 36,
     "metadata": {},
     "output_type": "execute_result"
    }
   ],
   "source": [
    "df = pd.read_csv(\"res_sim_5arm_gauss_var_sigma.csv\")\n",
    "df"
   ]
  },
  {
   "cell_type": "code",
   "execution_count": 37,
   "metadata": {},
   "outputs": [
    {
     "name": "stdout",
     "output_type": "stream",
     "text": [
      "{'$\\\\sigma_{\\\\Delta}^2 = 0.05$': {'ES': {'power': 0.706, 'samples': 915.439, 'regret': 0.007}, 'UES': {'power': 0.649, 'samples': 954.111, 'regret': 0.0302}, 'TSS': {'power': 0.563, 'samples': 993.606, 'regret': 0.0079}, 'UCBS': {'power': 0.702, 'samples': 951.257, 'regret': 0.0121}, 'EGS': {'power': 0.485, 'samples': 1062.337, 'regret': 0.0051}, 'PSI': {'power': 0.212, 'samples': 1127.484, 'regret': 0.0156}, 'A/B': {'power': 0.161, 'samples': 1000.0, 'regret': 0.0352}}, '$\\\\sigma_{\\\\Delta}^2 = 0.1$': {'ES': {'power': 0.796, 'samples': 741.297, 'regret': 0.0091}, 'UES': {'power': 0.747, 'samples': 768.689, 'regret': 0.0412}, 'TSS': {'power': 0.681, 'samples': 830.362, 'regret': 0.0105}, 'UCBS': {'power': 0.79, 'samples': 790.889, 'regret': 0.0166}, 'EGS': {'power': 0.622, 'samples': 856.454, 'regret': 0.0068}, 'PSI': {'power': 0.389, 'samples': 985.004, 'regret': 0.0169}, 'A/B': {'power': 0.291, 'samples': 1000.0, 'regret': 0.0495}}, '$\\\\sigma_{\\\\Delta}^2 = 0.2$': {'ES': {'power': 0.855, 'samples': 621.434, 'regret': 0.0124}, 'UES': {'power': 0.815, 'samples': 633.961, 'regret': 0.0549}, 'TSS': {'power': 0.782, 'samples': 684.179, 'regret': 0.0142}, 'UCBS': {'power': 0.84, 'samples': 668.69, 'regret': 0.0261}, 'EGS': {'power': 0.721, 'samples': 712.528, 'regret': 0.0091}, 'PSI': {'power': 0.525, 'samples': 725.14, 'regret': 0.0182}, 'A/B': {'power': 0.437, 'samples': 1000.0, 'regret': 0.0707}}, '$\\\\sigma_{\\\\Delta}^2 = 0.5$': {'ES': {'power': 0.914, 'samples': 460.124, 'regret': 0.0229}, 'UES': {'power': 0.883, 'samples': 490.0, 'regret': 0.0806}, 'TSS': {'power': 0.847, 'samples': 523.918, 'regret': 0.0202}, 'UCBS': {'power': 0.899, 'samples': 545.589, 'regret': 0.0523}, 'EGS': {'power': 0.814, 'samples': 543.343, 'regret': 0.0129}, 'PSI': {'power': 0.698, 'samples': 512.658, 'regret': 0.0213}, 'A/B': {'power': 0.623, 'samples': 1000.0, 'regret': 0.1112}}, '$\\\\sigma_{\\\\Delta}^2 = 1$': {'ES': {'power': 0.942, 'samples': 390.513, 'regret': 0.0362}, 'UES': {'power': 0.924, 'samples': 407.035, 'regret': 0.1078}, 'TSS': {'power': 0.89, 'samples': 439.611, 'regret': 0.0265}, 'UCBS': {'power': 0.937, 'samples': 480.761, 'regret': 0.083}, 'EGS': {'power': 0.876, 'samples': 467.199, 'regret': 0.0158}, 'PSI': {'power': 0.781, 'samples': 368.422, 'regret': 0.0237}, 'A/B': {'power': 0.723, 'samples': 1000.0, 'regret': 0.1575}}}\n"
     ]
    },
    {
     "data": {
      "application/vnd.plotly.v1+json": {
       "config": {
        "plotlyServerURL": "https://plot.ly"
       },
       "data": [
        {
         "legendgroup": "ES",
         "marker": {
          "color": [
           "red"
          ],
          "size": 8,
          "symbol": [
           "square"
          ]
         },
         "mode": "markers",
         "name": "ES",
         "orientation": "h",
         "showlegend": true,
         "type": "scatter",
         "x": [
          0.03333333333333333
         ],
         "xaxis": "x",
         "y": [
          0.706
         ],
         "yaxis": "y"
        },
        {
         "legendgroup": "ES",
         "marker": {
          "color": [
           "red"
          ],
          "size": 8,
          "symbol": [
           "square"
          ]
         },
         "mode": "markers",
         "name": "ES",
         "orientation": "h",
         "showlegend": false,
         "type": "scatter",
         "x": [
          915.439
         ],
         "xaxis": "x6",
         "y": [
          0.706
         ],
         "yaxis": "y6"
        },
        {
         "legendgroup": "UES",
         "marker": {
          "color": [
           "yellowgreen"
          ],
          "size": 8,
          "symbol": [
           "star"
          ]
         },
         "mode": "markers",
         "name": "UES",
         "orientation": "h",
         "showlegend": true,
         "type": "scatter",
         "x": [
          0.14380952380952383
         ],
         "xaxis": "x",
         "y": [
          0.649
         ],
         "yaxis": "y"
        },
        {
         "legendgroup": "UES",
         "marker": {
          "color": [
           "yellowgreen"
          ],
          "size": 8,
          "symbol": [
           "star"
          ]
         },
         "mode": "markers",
         "name": "UES",
         "orientation": "h",
         "showlegend": false,
         "type": "scatter",
         "x": [
          954.111
         ],
         "xaxis": "x6",
         "y": [
          0.649
         ],
         "yaxis": "y6"
        },
        {
         "legendgroup": "TSS",
         "marker": {
          "color": [
           "blueviolet"
          ],
          "size": 8,
          "symbol": [
           "triangle-up"
          ]
         },
         "mode": "markers",
         "name": "TSS",
         "orientation": "h",
         "showlegend": true,
         "type": "scatter",
         "x": [
          0.03761904761904762
         ],
         "xaxis": "x",
         "y": [
          0.563
         ],
         "yaxis": "y"
        },
        {
         "legendgroup": "TSS",
         "marker": {
          "color": [
           "blueviolet"
          ],
          "size": 8,
          "symbol": [
           "triangle-up"
          ]
         },
         "mode": "markers",
         "name": "TSS",
         "orientation": "h",
         "showlegend": false,
         "type": "scatter",
         "x": [
          993.606
         ],
         "xaxis": "x6",
         "y": [
          0.563
         ],
         "yaxis": "y6"
        },
        {
         "legendgroup": "UCBS",
         "marker": {
          "color": [
           "maroon"
          ],
          "size": 8,
          "symbol": [
           "x"
          ]
         },
         "mode": "markers",
         "name": "UCBS",
         "orientation": "h",
         "showlegend": true,
         "type": "scatter",
         "x": [
          0.05761904761904762
         ],
         "xaxis": "x",
         "y": [
          0.702
         ],
         "yaxis": "y"
        },
        {
         "legendgroup": "UCBS",
         "marker": {
          "color": [
           "maroon"
          ],
          "size": 8,
          "symbol": [
           "x"
          ]
         },
         "mode": "markers",
         "name": "UCBS",
         "orientation": "h",
         "showlegend": false,
         "type": "scatter",
         "x": [
          951.257
         ],
         "xaxis": "x6",
         "y": [
          0.702
         ],
         "yaxis": "y6"
        },
        {
         "legendgroup": "EGS",
         "marker": {
          "color": [
           "darkgray"
          ],
          "size": 8,
          "symbol": [
           "diamond"
          ]
         },
         "mode": "markers",
         "name": "EGS",
         "orientation": "h",
         "showlegend": true,
         "type": "scatter",
         "x": [
          0.02428571428571429
         ],
         "xaxis": "x",
         "y": [
          0.485
         ],
         "yaxis": "y"
        },
        {
         "legendgroup": "EGS",
         "marker": {
          "color": [
           "darkgray"
          ],
          "size": 8,
          "symbol": [
           "diamond"
          ]
         },
         "mode": "markers",
         "name": "EGS",
         "orientation": "h",
         "showlegend": false,
         "type": "scatter",
         "x": [
          1062.337
         ],
         "xaxis": "x6",
         "y": [
          0.485
         ],
         "yaxis": "y6"
        },
        {
         "legendgroup": "PSI",
         "marker": {
          "color": [
           "black"
          ],
          "size": 8,
          "symbol": [
           "pentagon"
          ]
         },
         "mode": "markers",
         "name": "PSI",
         "orientation": "h",
         "showlegend": true,
         "type": "scatter",
         "x": [
          0.07428571428571429
         ],
         "xaxis": "x",
         "y": [
          0.212
         ],
         "yaxis": "y"
        },
        {
         "legendgroup": "PSI",
         "marker": {
          "color": [
           "black"
          ],
          "size": 8,
          "symbol": [
           "pentagon"
          ]
         },
         "mode": "markers",
         "name": "PSI",
         "orientation": "h",
         "showlegend": false,
         "type": "scatter",
         "x": [
          1127.484
         ],
         "xaxis": "x6",
         "y": [
          0.212
         ],
         "yaxis": "y6"
        },
        {
         "legendgroup": "A/B",
         "marker": {
          "color": [
           "lime"
          ],
          "size": 8,
          "symbol": [
           "circle"
          ]
         },
         "mode": "markers",
         "name": "A/B",
         "orientation": "h",
         "showlegend": true,
         "type": "scatter",
         "x": [
          0.16761904761904764
         ],
         "xaxis": "x",
         "y": [
          0.161
         ],
         "yaxis": "y"
        },
        {
         "legendgroup": "A/B",
         "marker": {
          "color": [
           "lime"
          ],
          "size": 8,
          "symbol": [
           "circle"
          ]
         },
         "mode": "markers",
         "name": "A/B",
         "orientation": "h",
         "showlegend": false,
         "type": "scatter",
         "x": [
          1000
         ],
         "xaxis": "x6",
         "y": [
          0.161
         ],
         "yaxis": "y6"
        },
        {
         "legendgroup": "ES",
         "marker": {
          "color": [
           "red"
          ],
          "size": 8,
          "symbol": [
           "square"
          ]
         },
         "mode": "markers",
         "name": "ES",
         "orientation": "h",
         "showlegend": false,
         "type": "scatter",
         "x": [
          0.043333333333333335
         ],
         "xaxis": "x2",
         "y": [
          0.796
         ],
         "yaxis": "y2"
        },
        {
         "legendgroup": "ES",
         "marker": {
          "color": [
           "red"
          ],
          "size": 8,
          "symbol": [
           "square"
          ]
         },
         "mode": "markers",
         "name": "ES",
         "orientation": "h",
         "showlegend": false,
         "type": "scatter",
         "x": [
          741.297
         ],
         "xaxis": "x7",
         "y": [
          0.796
         ],
         "yaxis": "y7"
        },
        {
         "legendgroup": "UES",
         "marker": {
          "color": [
           "yellowgreen"
          ],
          "size": 8,
          "symbol": [
           "star"
          ]
         },
         "mode": "markers",
         "name": "UES",
         "orientation": "h",
         "showlegend": false,
         "type": "scatter",
         "x": [
          0.1961904761904762
         ],
         "xaxis": "x2",
         "y": [
          0.747
         ],
         "yaxis": "y2"
        },
        {
         "legendgroup": "UES",
         "marker": {
          "color": [
           "yellowgreen"
          ],
          "size": 8,
          "symbol": [
           "star"
          ]
         },
         "mode": "markers",
         "name": "UES",
         "orientation": "h",
         "showlegend": false,
         "type": "scatter",
         "x": [
          768.689
         ],
         "xaxis": "x7",
         "y": [
          0.747
         ],
         "yaxis": "y7"
        },
        {
         "legendgroup": "TSS",
         "marker": {
          "color": [
           "blueviolet"
          ],
          "size": 8,
          "symbol": [
           "triangle-up"
          ]
         },
         "mode": "markers",
         "name": "TSS",
         "orientation": "h",
         "showlegend": false,
         "type": "scatter",
         "x": [
          0.05
         ],
         "xaxis": "x2",
         "y": [
          0.681
         ],
         "yaxis": "y2"
        },
        {
         "legendgroup": "TSS",
         "marker": {
          "color": [
           "blueviolet"
          ],
          "size": 8,
          "symbol": [
           "triangle-up"
          ]
         },
         "mode": "markers",
         "name": "TSS",
         "orientation": "h",
         "showlegend": false,
         "type": "scatter",
         "x": [
          830.362
         ],
         "xaxis": "x7",
         "y": [
          0.681
         ],
         "yaxis": "y7"
        },
        {
         "legendgroup": "UCBS",
         "marker": {
          "color": [
           "maroon"
          ],
          "size": 8,
          "symbol": [
           "x"
          ]
         },
         "mode": "markers",
         "name": "UCBS",
         "orientation": "h",
         "showlegend": false,
         "type": "scatter",
         "x": [
          0.07904761904761905
         ],
         "xaxis": "x2",
         "y": [
          0.79
         ],
         "yaxis": "y2"
        },
        {
         "legendgroup": "UCBS",
         "marker": {
          "color": [
           "maroon"
          ],
          "size": 8,
          "symbol": [
           "x"
          ]
         },
         "mode": "markers",
         "name": "UCBS",
         "orientation": "h",
         "showlegend": false,
         "type": "scatter",
         "x": [
          790.889
         ],
         "xaxis": "x7",
         "y": [
          0.79
         ],
         "yaxis": "y7"
        },
        {
         "legendgroup": "EGS",
         "marker": {
          "color": [
           "darkgray"
          ],
          "size": 8,
          "symbol": [
           "diamond"
          ]
         },
         "mode": "markers",
         "name": "EGS",
         "orientation": "h",
         "showlegend": false,
         "type": "scatter",
         "x": [
          0.03238095238095238
         ],
         "xaxis": "x2",
         "y": [
          0.622
         ],
         "yaxis": "y2"
        },
        {
         "legendgroup": "EGS",
         "marker": {
          "color": [
           "darkgray"
          ],
          "size": 8,
          "symbol": [
           "diamond"
          ]
         },
         "mode": "markers",
         "name": "EGS",
         "orientation": "h",
         "showlegend": false,
         "type": "scatter",
         "x": [
          856.454
         ],
         "xaxis": "x7",
         "y": [
          0.622
         ],
         "yaxis": "y7"
        },
        {
         "legendgroup": "PSI",
         "marker": {
          "color": [
           "black"
          ],
          "size": 8,
          "symbol": [
           "pentagon"
          ]
         },
         "mode": "markers",
         "name": "PSI",
         "orientation": "h",
         "showlegend": false,
         "type": "scatter",
         "x": [
          0.08047619047619047
         ],
         "xaxis": "x2",
         "y": [
          0.389
         ],
         "yaxis": "y2"
        },
        {
         "legendgroup": "PSI",
         "marker": {
          "color": [
           "black"
          ],
          "size": 8,
          "symbol": [
           "pentagon"
          ]
         },
         "mode": "markers",
         "name": "PSI",
         "orientation": "h",
         "showlegend": false,
         "type": "scatter",
         "x": [
          985.004
         ],
         "xaxis": "x7",
         "y": [
          0.389
         ],
         "yaxis": "y7"
        },
        {
         "legendgroup": "A/B",
         "marker": {
          "color": [
           "lime"
          ],
          "size": 8,
          "symbol": [
           "circle"
          ]
         },
         "mode": "markers",
         "name": "A/B",
         "orientation": "h",
         "showlegend": false,
         "type": "scatter",
         "x": [
          0.23571428571428574
         ],
         "xaxis": "x2",
         "y": [
          0.291
         ],
         "yaxis": "y2"
        },
        {
         "legendgroup": "A/B",
         "marker": {
          "color": [
           "lime"
          ],
          "size": 8,
          "symbol": [
           "circle"
          ]
         },
         "mode": "markers",
         "name": "A/B",
         "orientation": "h",
         "showlegend": false,
         "type": "scatter",
         "x": [
          1000
         ],
         "xaxis": "x7",
         "y": [
          0.291
         ],
         "yaxis": "y7"
        },
        {
         "legendgroup": "ES",
         "marker": {
          "color": [
           "red"
          ],
          "size": 8,
          "symbol": [
           "square"
          ]
         },
         "mode": "markers",
         "name": "ES",
         "orientation": "h",
         "showlegend": false,
         "type": "scatter",
         "x": [
          0.05904761904761905
         ],
         "xaxis": "x3",
         "y": [
          0.855
         ],
         "yaxis": "y3"
        },
        {
         "legendgroup": "ES",
         "marker": {
          "color": [
           "red"
          ],
          "size": 8,
          "symbol": [
           "square"
          ]
         },
         "mode": "markers",
         "name": "ES",
         "orientation": "h",
         "showlegend": false,
         "type": "scatter",
         "x": [
          621.434
         ],
         "xaxis": "x8",
         "y": [
          0.855
         ],
         "yaxis": "y8"
        },
        {
         "legendgroup": "UES",
         "marker": {
          "color": [
           "yellowgreen"
          ],
          "size": 8,
          "symbol": [
           "star"
          ]
         },
         "mode": "markers",
         "name": "UES",
         "orientation": "h",
         "showlegend": false,
         "type": "scatter",
         "x": [
          0.2614285714285714
         ],
         "xaxis": "x3",
         "y": [
          0.815
         ],
         "yaxis": "y3"
        },
        {
         "legendgroup": "UES",
         "marker": {
          "color": [
           "yellowgreen"
          ],
          "size": 8,
          "symbol": [
           "star"
          ]
         },
         "mode": "markers",
         "name": "UES",
         "orientation": "h",
         "showlegend": false,
         "type": "scatter",
         "x": [
          633.961
         ],
         "xaxis": "x8",
         "y": [
          0.815
         ],
         "yaxis": "y8"
        },
        {
         "legendgroup": "TSS",
         "marker": {
          "color": [
           "blueviolet"
          ],
          "size": 8,
          "symbol": [
           "triangle-up"
          ]
         },
         "mode": "markers",
         "name": "TSS",
         "orientation": "h",
         "showlegend": false,
         "type": "scatter",
         "x": [
          0.06761904761904762
         ],
         "xaxis": "x3",
         "y": [
          0.782
         ],
         "yaxis": "y3"
        },
        {
         "legendgroup": "TSS",
         "marker": {
          "color": [
           "blueviolet"
          ],
          "size": 8,
          "symbol": [
           "triangle-up"
          ]
         },
         "mode": "markers",
         "name": "TSS",
         "orientation": "h",
         "showlegend": false,
         "type": "scatter",
         "x": [
          684.179
         ],
         "xaxis": "x8",
         "y": [
          0.782
         ],
         "yaxis": "y8"
        },
        {
         "legendgroup": "UCBS",
         "marker": {
          "color": [
           "maroon"
          ],
          "size": 8,
          "symbol": [
           "x"
          ]
         },
         "mode": "markers",
         "name": "UCBS",
         "orientation": "h",
         "showlegend": false,
         "type": "scatter",
         "x": [
          0.1242857142857143
         ],
         "xaxis": "x3",
         "y": [
          0.84
         ],
         "yaxis": "y3"
        },
        {
         "legendgroup": "UCBS",
         "marker": {
          "color": [
           "maroon"
          ],
          "size": 8,
          "symbol": [
           "x"
          ]
         },
         "mode": "markers",
         "name": "UCBS",
         "orientation": "h",
         "showlegend": false,
         "type": "scatter",
         "x": [
          668.69
         ],
         "xaxis": "x8",
         "y": [
          0.84
         ],
         "yaxis": "y8"
        },
        {
         "legendgroup": "EGS",
         "marker": {
          "color": [
           "darkgray"
          ],
          "size": 8,
          "symbol": [
           "diamond"
          ]
         },
         "mode": "markers",
         "name": "EGS",
         "orientation": "h",
         "showlegend": false,
         "type": "scatter",
         "x": [
          0.043333333333333335
         ],
         "xaxis": "x3",
         "y": [
          0.721
         ],
         "yaxis": "y3"
        },
        {
         "legendgroup": "EGS",
         "marker": {
          "color": [
           "darkgray"
          ],
          "size": 8,
          "symbol": [
           "diamond"
          ]
         },
         "mode": "markers",
         "name": "EGS",
         "orientation": "h",
         "showlegend": false,
         "type": "scatter",
         "x": [
          712.528
         ],
         "xaxis": "x8",
         "y": [
          0.721
         ],
         "yaxis": "y8"
        },
        {
         "legendgroup": "PSI",
         "marker": {
          "color": [
           "black"
          ],
          "size": 8,
          "symbol": [
           "pentagon"
          ]
         },
         "mode": "markers",
         "name": "PSI",
         "orientation": "h",
         "showlegend": false,
         "type": "scatter",
         "x": [
          0.08666666666666667
         ],
         "xaxis": "x3",
         "y": [
          0.525
         ],
         "yaxis": "y3"
        },
        {
         "legendgroup": "PSI",
         "marker": {
          "color": [
           "black"
          ],
          "size": 8,
          "symbol": [
           "pentagon"
          ]
         },
         "mode": "markers",
         "name": "PSI",
         "orientation": "h",
         "showlegend": false,
         "type": "scatter",
         "x": [
          725.14
         ],
         "xaxis": "x8",
         "y": [
          0.525
         ],
         "yaxis": "y8"
        },
        {
         "legendgroup": "A/B",
         "marker": {
          "color": [
           "lime"
          ],
          "size": 8,
          "symbol": [
           "circle"
          ]
         },
         "mode": "markers",
         "name": "A/B",
         "orientation": "h",
         "showlegend": false,
         "type": "scatter",
         "x": [
          0.33666666666666667
         ],
         "xaxis": "x3",
         "y": [
          0.437
         ],
         "yaxis": "y3"
        },
        {
         "legendgroup": "A/B",
         "marker": {
          "color": [
           "lime"
          ],
          "size": 8,
          "symbol": [
           "circle"
          ]
         },
         "mode": "markers",
         "name": "A/B",
         "orientation": "h",
         "showlegend": false,
         "type": "scatter",
         "x": [
          1000
         ],
         "xaxis": "x8",
         "y": [
          0.437
         ],
         "yaxis": "y8"
        },
        {
         "legendgroup": "ES",
         "marker": {
          "color": [
           "red"
          ],
          "size": 8,
          "symbol": [
           "square"
          ]
         },
         "mode": "markers",
         "name": "ES",
         "orientation": "h",
         "showlegend": false,
         "type": "scatter",
         "x": [
          0.10904761904761905
         ],
         "xaxis": "x4",
         "y": [
          0.914
         ],
         "yaxis": "y4"
        },
        {
         "legendgroup": "ES",
         "marker": {
          "color": [
           "red"
          ],
          "size": 8,
          "symbol": [
           "square"
          ]
         },
         "mode": "markers",
         "name": "ES",
         "orientation": "h",
         "showlegend": false,
         "type": "scatter",
         "x": [
          460.124
         ],
         "xaxis": "x9",
         "y": [
          0.914
         ],
         "yaxis": "y9"
        },
        {
         "legendgroup": "UES",
         "marker": {
          "color": [
           "yellowgreen"
          ],
          "size": 8,
          "symbol": [
           "star"
          ]
         },
         "mode": "markers",
         "name": "UES",
         "orientation": "h",
         "showlegend": false,
         "type": "scatter",
         "x": [
          0.3838095238095238
         ],
         "xaxis": "x4",
         "y": [
          0.883
         ],
         "yaxis": "y4"
        },
        {
         "legendgroup": "UES",
         "marker": {
          "color": [
           "yellowgreen"
          ],
          "size": 8,
          "symbol": [
           "star"
          ]
         },
         "mode": "markers",
         "name": "UES",
         "orientation": "h",
         "showlegend": false,
         "type": "scatter",
         "x": [
          490
         ],
         "xaxis": "x9",
         "y": [
          0.883
         ],
         "yaxis": "y9"
        },
        {
         "legendgroup": "TSS",
         "marker": {
          "color": [
           "blueviolet"
          ],
          "size": 8,
          "symbol": [
           "triangle-up"
          ]
         },
         "mode": "markers",
         "name": "TSS",
         "orientation": "h",
         "showlegend": false,
         "type": "scatter",
         "x": [
          0.09619047619047619
         ],
         "xaxis": "x4",
         "y": [
          0.847
         ],
         "yaxis": "y4"
        },
        {
         "legendgroup": "TSS",
         "marker": {
          "color": [
           "blueviolet"
          ],
          "size": 8,
          "symbol": [
           "triangle-up"
          ]
         },
         "mode": "markers",
         "name": "TSS",
         "orientation": "h",
         "showlegend": false,
         "type": "scatter",
         "x": [
          523.918
         ],
         "xaxis": "x9",
         "y": [
          0.847
         ],
         "yaxis": "y9"
        },
        {
         "legendgroup": "UCBS",
         "marker": {
          "color": [
           "maroon"
          ],
          "size": 8,
          "symbol": [
           "x"
          ]
         },
         "mode": "markers",
         "name": "UCBS",
         "orientation": "h",
         "showlegend": false,
         "type": "scatter",
         "x": [
          0.24904761904761905
         ],
         "xaxis": "x4",
         "y": [
          0.899
         ],
         "yaxis": "y4"
        },
        {
         "legendgroup": "UCBS",
         "marker": {
          "color": [
           "maroon"
          ],
          "size": 8,
          "symbol": [
           "x"
          ]
         },
         "mode": "markers",
         "name": "UCBS",
         "orientation": "h",
         "showlegend": false,
         "type": "scatter",
         "x": [
          545.589
         ],
         "xaxis": "x9",
         "y": [
          0.899
         ],
         "yaxis": "y9"
        },
        {
         "legendgroup": "EGS",
         "marker": {
          "color": [
           "darkgray"
          ],
          "size": 8,
          "symbol": [
           "diamond"
          ]
         },
         "mode": "markers",
         "name": "EGS",
         "orientation": "h",
         "showlegend": false,
         "type": "scatter",
         "x": [
          0.06142857142857143
         ],
         "xaxis": "x4",
         "y": [
          0.814
         ],
         "yaxis": "y4"
        },
        {
         "legendgroup": "EGS",
         "marker": {
          "color": [
           "darkgray"
          ],
          "size": 8,
          "symbol": [
           "diamond"
          ]
         },
         "mode": "markers",
         "name": "EGS",
         "orientation": "h",
         "showlegend": false,
         "type": "scatter",
         "x": [
          543.343
         ],
         "xaxis": "x9",
         "y": [
          0.814
         ],
         "yaxis": "y9"
        },
        {
         "legendgroup": "PSI",
         "marker": {
          "color": [
           "black"
          ],
          "size": 8,
          "symbol": [
           "pentagon"
          ]
         },
         "mode": "markers",
         "name": "PSI",
         "orientation": "h",
         "showlegend": false,
         "type": "scatter",
         "x": [
          0.10142857142857142
         ],
         "xaxis": "x4",
         "y": [
          0.698
         ],
         "yaxis": "y4"
        },
        {
         "legendgroup": "PSI",
         "marker": {
          "color": [
           "black"
          ],
          "size": 8,
          "symbol": [
           "pentagon"
          ]
         },
         "mode": "markers",
         "name": "PSI",
         "orientation": "h",
         "showlegend": false,
         "type": "scatter",
         "x": [
          512.658
         ],
         "xaxis": "x9",
         "y": [
          0.698
         ],
         "yaxis": "y9"
        },
        {
         "legendgroup": "A/B",
         "marker": {
          "color": [
           "lime"
          ],
          "size": 8,
          "symbol": [
           "circle"
          ]
         },
         "mode": "markers",
         "name": "A/B",
         "orientation": "h",
         "showlegend": false,
         "type": "scatter",
         "x": [
          0.5295238095238095
         ],
         "xaxis": "x4",
         "y": [
          0.623
         ],
         "yaxis": "y4"
        },
        {
         "legendgroup": "A/B",
         "marker": {
          "color": [
           "lime"
          ],
          "size": 8,
          "symbol": [
           "circle"
          ]
         },
         "mode": "markers",
         "name": "A/B",
         "orientation": "h",
         "showlegend": false,
         "type": "scatter",
         "x": [
          1000
         ],
         "xaxis": "x9",
         "y": [
          0.623
         ],
         "yaxis": "y9"
        },
        {
         "legendgroup": "ES",
         "marker": {
          "color": [
           "red"
          ],
          "size": 8,
          "symbol": [
           "square"
          ]
         },
         "mode": "markers",
         "name": "ES",
         "orientation": "h",
         "showlegend": false,
         "type": "scatter",
         "x": [
          0.1723809523809524
         ],
         "xaxis": "x5",
         "y": [
          0.942
         ],
         "yaxis": "y5"
        },
        {
         "legendgroup": "ES",
         "marker": {
          "color": [
           "red"
          ],
          "size": 8,
          "symbol": [
           "square"
          ]
         },
         "mode": "markers",
         "name": "ES",
         "orientation": "h",
         "showlegend": false,
         "type": "scatter",
         "x": [
          390.513
         ],
         "xaxis": "x10",
         "y": [
          0.942
         ],
         "yaxis": "y10"
        },
        {
         "legendgroup": "UES",
         "marker": {
          "color": [
           "yellowgreen"
          ],
          "size": 8,
          "symbol": [
           "star"
          ]
         },
         "mode": "markers",
         "name": "UES",
         "orientation": "h",
         "showlegend": false,
         "type": "scatter",
         "x": [
          0.5133333333333334
         ],
         "xaxis": "x5",
         "y": [
          0.924
         ],
         "yaxis": "y5"
        },
        {
         "legendgroup": "UES",
         "marker": {
          "color": [
           "yellowgreen"
          ],
          "size": 8,
          "symbol": [
           "star"
          ]
         },
         "mode": "markers",
         "name": "UES",
         "orientation": "h",
         "showlegend": false,
         "type": "scatter",
         "x": [
          407.035
         ],
         "xaxis": "x10",
         "y": [
          0.924
         ],
         "yaxis": "y10"
        },
        {
         "legendgroup": "TSS",
         "marker": {
          "color": [
           "blueviolet"
          ],
          "size": 8,
          "symbol": [
           "triangle-up"
          ]
         },
         "mode": "markers",
         "name": "TSS",
         "orientation": "h",
         "showlegend": false,
         "type": "scatter",
         "x": [
          0.1261904761904762
         ],
         "xaxis": "x5",
         "y": [
          0.89
         ],
         "yaxis": "y5"
        },
        {
         "legendgroup": "TSS",
         "marker": {
          "color": [
           "blueviolet"
          ],
          "size": 8,
          "symbol": [
           "triangle-up"
          ]
         },
         "mode": "markers",
         "name": "TSS",
         "orientation": "h",
         "showlegend": false,
         "type": "scatter",
         "x": [
          439.611
         ],
         "xaxis": "x10",
         "y": [
          0.89
         ],
         "yaxis": "y10"
        },
        {
         "legendgroup": "UCBS",
         "marker": {
          "color": [
           "maroon"
          ],
          "size": 8,
          "symbol": [
           "x"
          ]
         },
         "mode": "markers",
         "name": "UCBS",
         "orientation": "h",
         "showlegend": false,
         "type": "scatter",
         "x": [
          0.3952380952380953
         ],
         "xaxis": "x5",
         "y": [
          0.937
         ],
         "yaxis": "y5"
        },
        {
         "legendgroup": "UCBS",
         "marker": {
          "color": [
           "maroon"
          ],
          "size": 8,
          "symbol": [
           "x"
          ]
         },
         "mode": "markers",
         "name": "UCBS",
         "orientation": "h",
         "showlegend": false,
         "type": "scatter",
         "x": [
          480.761
         ],
         "xaxis": "x10",
         "y": [
          0.937
         ],
         "yaxis": "y10"
        },
        {
         "legendgroup": "EGS",
         "marker": {
          "color": [
           "darkgray"
          ],
          "size": 8,
          "symbol": [
           "diamond"
          ]
         },
         "mode": "markers",
         "name": "EGS",
         "orientation": "h",
         "showlegend": false,
         "type": "scatter",
         "x": [
          0.07523809523809524
         ],
         "xaxis": "x5",
         "y": [
          0.876
         ],
         "yaxis": "y5"
        },
        {
         "legendgroup": "EGS",
         "marker": {
          "color": [
           "darkgray"
          ],
          "size": 8,
          "symbol": [
           "diamond"
          ]
         },
         "mode": "markers",
         "name": "EGS",
         "orientation": "h",
         "showlegend": false,
         "type": "scatter",
         "x": [
          467.199
         ],
         "xaxis": "x10",
         "y": [
          0.876
         ],
         "yaxis": "y10"
        },
        {
         "legendgroup": "PSI",
         "marker": {
          "color": [
           "black"
          ],
          "size": 8,
          "symbol": [
           "pentagon"
          ]
         },
         "mode": "markers",
         "name": "PSI",
         "orientation": "h",
         "showlegend": false,
         "type": "scatter",
         "x": [
          0.11285714285714285
         ],
         "xaxis": "x5",
         "y": [
          0.781
         ],
         "yaxis": "y5"
        },
        {
         "legendgroup": "PSI",
         "marker": {
          "color": [
           "black"
          ],
          "size": 8,
          "symbol": [
           "pentagon"
          ]
         },
         "mode": "markers",
         "name": "PSI",
         "orientation": "h",
         "showlegend": false,
         "type": "scatter",
         "x": [
          368.422
         ],
         "xaxis": "x10",
         "y": [
          0.781
         ],
         "yaxis": "y10"
        },
        {
         "legendgroup": "A/B",
         "marker": {
          "color": [
           "lime"
          ],
          "size": 8,
          "symbol": [
           "circle"
          ]
         },
         "mode": "markers",
         "name": "A/B",
         "orientation": "h",
         "showlegend": false,
         "type": "scatter",
         "x": [
          0.75
         ],
         "xaxis": "x5",
         "y": [
          0.723
         ],
         "yaxis": "y5"
        },
        {
         "legendgroup": "A/B",
         "marker": {
          "color": [
           "lime"
          ],
          "size": 8,
          "symbol": [
           "circle"
          ]
         },
         "mode": "markers",
         "name": "A/B",
         "orientation": "h",
         "showlegend": false,
         "type": "scatter",
         "x": [
          1000
         ],
         "xaxis": "x10",
         "y": [
          0.723
         ],
         "yaxis": "y10"
        }
       ],
       "layout": {
        "annotations": [
         {
          "font": {
           "size": 20
          },
          "showarrow": false,
          "text": "$\\sigma_{\\Delta}^2 = 0.05$",
          "x": 0.088,
          "xanchor": "center",
          "xref": "paper",
          "y": 1,
          "yanchor": "bottom",
          "yref": "paper"
         },
         {
          "font": {
           "size": 20
          },
          "showarrow": false,
          "text": "$\\sigma_{\\Delta}^2 = 0.1$",
          "x": 0.294,
          "xanchor": "center",
          "xref": "paper",
          "y": 1,
          "yanchor": "bottom",
          "yref": "paper"
         },
         {
          "font": {
           "size": 20
          },
          "showarrow": false,
          "text": "$\\sigma_{\\Delta}^2 = 0.2$",
          "x": 0.5,
          "xanchor": "center",
          "xref": "paper",
          "y": 1,
          "yanchor": "bottom",
          "yref": "paper"
         },
         {
          "font": {
           "size": 20
          },
          "showarrow": false,
          "text": "$\\sigma_{\\Delta}^2 = 0.5$",
          "x": 0.706,
          "xanchor": "center",
          "xref": "paper",
          "y": 1,
          "yanchor": "bottom",
          "yref": "paper"
         },
         {
          "font": {
           "size": 20
          },
          "showarrow": false,
          "text": "$\\sigma_{\\Delta}^2 = 1$",
          "x": 0.9119999999999999,
          "xanchor": "center",
          "xref": "paper",
          "y": 1,
          "yanchor": "bottom",
          "yref": "paper"
         },
         {
          "font": {
           "size": 20
          },
          "showarrow": false,
          "text": "Power",
          "textangle": -90,
          "x": 0,
          "xanchor": "right",
          "xref": "paper",
          "xshift": -40,
          "y": 0.5,
          "yanchor": "middle",
          "yref": "paper"
         }
        ],
        "font": {
         "size": 16
        },
        "height": 800,
        "legend": {
         "orientation": "h",
         "x": 0.33,
         "y": -0.15
        },
        "plot_bgcolor": "rgb(242,242,242)",
        "shapes": [
         {
          "type": "line",
          "x0": 0,
          "x1": 1,
          "xref": "x domain",
          "y0": 0.9,
          "y1": 0.9,
          "yref": "y"
         },
         {
          "type": "line",
          "x0": 0,
          "x1": 1,
          "xref": "x2 domain",
          "y0": 0.9,
          "y1": 0.9,
          "yref": "y2"
         },
         {
          "type": "line",
          "x0": 0,
          "x1": 1,
          "xref": "x3 domain",
          "y0": 0.9,
          "y1": 0.9,
          "yref": "y3"
         },
         {
          "type": "line",
          "x0": 0,
          "x1": 1,
          "xref": "x4 domain",
          "y0": 0.9,
          "y1": 0.9,
          "yref": "y4"
         },
         {
          "type": "line",
          "x0": 0,
          "x1": 1,
          "xref": "x5 domain",
          "y0": 0.9,
          "y1": 0.9,
          "yref": "y5"
         },
         {
          "type": "line",
          "x0": 0,
          "x1": 1,
          "xref": "x6 domain",
          "y0": 0.9,
          "y1": 0.9,
          "yref": "y6"
         },
         {
          "type": "line",
          "x0": 0,
          "x1": 1,
          "xref": "x7 domain",
          "y0": 0.9,
          "y1": 0.9,
          "yref": "y7"
         },
         {
          "type": "line",
          "x0": 0,
          "x1": 1,
          "xref": "x8 domain",
          "y0": 0.9,
          "y1": 0.9,
          "yref": "y8"
         },
         {
          "type": "line",
          "x0": 0,
          "x1": 1,
          "xref": "x9 domain",
          "y0": 0.9,
          "y1": 0.9,
          "yref": "y9"
         },
         {
          "type": "line",
          "x0": 0,
          "x1": 1,
          "xref": "x10 domain",
          "y0": 0.9,
          "y1": 0.9,
          "yref": "y10"
         }
        ],
        "template": {
         "data": {
          "bar": [
           {
            "error_x": {
             "color": "#2a3f5f"
            },
            "error_y": {
             "color": "#2a3f5f"
            },
            "marker": {
             "line": {
              "color": "#E5ECF6",
              "width": 0.5
             },
             "pattern": {
              "fillmode": "overlay",
              "size": 10,
              "solidity": 0.2
             }
            },
            "type": "bar"
           }
          ],
          "barpolar": [
           {
            "marker": {
             "line": {
              "color": "#E5ECF6",
              "width": 0.5
             },
             "pattern": {
              "fillmode": "overlay",
              "size": 10,
              "solidity": 0.2
             }
            },
            "type": "barpolar"
           }
          ],
          "carpet": [
           {
            "aaxis": {
             "endlinecolor": "#2a3f5f",
             "gridcolor": "white",
             "linecolor": "white",
             "minorgridcolor": "white",
             "startlinecolor": "#2a3f5f"
            },
            "baxis": {
             "endlinecolor": "#2a3f5f",
             "gridcolor": "white",
             "linecolor": "white",
             "minorgridcolor": "white",
             "startlinecolor": "#2a3f5f"
            },
            "type": "carpet"
           }
          ],
          "choropleth": [
           {
            "colorbar": {
             "outlinewidth": 0,
             "ticks": ""
            },
            "type": "choropleth"
           }
          ],
          "contour": [
           {
            "colorbar": {
             "outlinewidth": 0,
             "ticks": ""
            },
            "colorscale": [
             [
              0,
              "#0d0887"
             ],
             [
              0.1111111111111111,
              "#46039f"
             ],
             [
              0.2222222222222222,
              "#7201a8"
             ],
             [
              0.3333333333333333,
              "#9c179e"
             ],
             [
              0.4444444444444444,
              "#bd3786"
             ],
             [
              0.5555555555555556,
              "#d8576b"
             ],
             [
              0.6666666666666666,
              "#ed7953"
             ],
             [
              0.7777777777777778,
              "#fb9f3a"
             ],
             [
              0.8888888888888888,
              "#fdca26"
             ],
             [
              1,
              "#f0f921"
             ]
            ],
            "type": "contour"
           }
          ],
          "contourcarpet": [
           {
            "colorbar": {
             "outlinewidth": 0,
             "ticks": ""
            },
            "type": "contourcarpet"
           }
          ],
          "heatmap": [
           {
            "colorbar": {
             "outlinewidth": 0,
             "ticks": ""
            },
            "colorscale": [
             [
              0,
              "#0d0887"
             ],
             [
              0.1111111111111111,
              "#46039f"
             ],
             [
              0.2222222222222222,
              "#7201a8"
             ],
             [
              0.3333333333333333,
              "#9c179e"
             ],
             [
              0.4444444444444444,
              "#bd3786"
             ],
             [
              0.5555555555555556,
              "#d8576b"
             ],
             [
              0.6666666666666666,
              "#ed7953"
             ],
             [
              0.7777777777777778,
              "#fb9f3a"
             ],
             [
              0.8888888888888888,
              "#fdca26"
             ],
             [
              1,
              "#f0f921"
             ]
            ],
            "type": "heatmap"
           }
          ],
          "heatmapgl": [
           {
            "colorbar": {
             "outlinewidth": 0,
             "ticks": ""
            },
            "colorscale": [
             [
              0,
              "#0d0887"
             ],
             [
              0.1111111111111111,
              "#46039f"
             ],
             [
              0.2222222222222222,
              "#7201a8"
             ],
             [
              0.3333333333333333,
              "#9c179e"
             ],
             [
              0.4444444444444444,
              "#bd3786"
             ],
             [
              0.5555555555555556,
              "#d8576b"
             ],
             [
              0.6666666666666666,
              "#ed7953"
             ],
             [
              0.7777777777777778,
              "#fb9f3a"
             ],
             [
              0.8888888888888888,
              "#fdca26"
             ],
             [
              1,
              "#f0f921"
             ]
            ],
            "type": "heatmapgl"
           }
          ],
          "histogram": [
           {
            "marker": {
             "pattern": {
              "fillmode": "overlay",
              "size": 10,
              "solidity": 0.2
             }
            },
            "type": "histogram"
           }
          ],
          "histogram2d": [
           {
            "colorbar": {
             "outlinewidth": 0,
             "ticks": ""
            },
            "colorscale": [
             [
              0,
              "#0d0887"
             ],
             [
              0.1111111111111111,
              "#46039f"
             ],
             [
              0.2222222222222222,
              "#7201a8"
             ],
             [
              0.3333333333333333,
              "#9c179e"
             ],
             [
              0.4444444444444444,
              "#bd3786"
             ],
             [
              0.5555555555555556,
              "#d8576b"
             ],
             [
              0.6666666666666666,
              "#ed7953"
             ],
             [
              0.7777777777777778,
              "#fb9f3a"
             ],
             [
              0.8888888888888888,
              "#fdca26"
             ],
             [
              1,
              "#f0f921"
             ]
            ],
            "type": "histogram2d"
           }
          ],
          "histogram2dcontour": [
           {
            "colorbar": {
             "outlinewidth": 0,
             "ticks": ""
            },
            "colorscale": [
             [
              0,
              "#0d0887"
             ],
             [
              0.1111111111111111,
              "#46039f"
             ],
             [
              0.2222222222222222,
              "#7201a8"
             ],
             [
              0.3333333333333333,
              "#9c179e"
             ],
             [
              0.4444444444444444,
              "#bd3786"
             ],
             [
              0.5555555555555556,
              "#d8576b"
             ],
             [
              0.6666666666666666,
              "#ed7953"
             ],
             [
              0.7777777777777778,
              "#fb9f3a"
             ],
             [
              0.8888888888888888,
              "#fdca26"
             ],
             [
              1,
              "#f0f921"
             ]
            ],
            "type": "histogram2dcontour"
           }
          ],
          "mesh3d": [
           {
            "colorbar": {
             "outlinewidth": 0,
             "ticks": ""
            },
            "type": "mesh3d"
           }
          ],
          "parcoords": [
           {
            "line": {
             "colorbar": {
              "outlinewidth": 0,
              "ticks": ""
             }
            },
            "type": "parcoords"
           }
          ],
          "pie": [
           {
            "automargin": true,
            "type": "pie"
           }
          ],
          "scatter": [
           {
            "fillpattern": {
             "fillmode": "overlay",
             "size": 10,
             "solidity": 0.2
            },
            "type": "scatter"
           }
          ],
          "scatter3d": [
           {
            "line": {
             "colorbar": {
              "outlinewidth": 0,
              "ticks": ""
             }
            },
            "marker": {
             "colorbar": {
              "outlinewidth": 0,
              "ticks": ""
             }
            },
            "type": "scatter3d"
           }
          ],
          "scattercarpet": [
           {
            "marker": {
             "colorbar": {
              "outlinewidth": 0,
              "ticks": ""
             }
            },
            "type": "scattercarpet"
           }
          ],
          "scattergeo": [
           {
            "marker": {
             "colorbar": {
              "outlinewidth": 0,
              "ticks": ""
             }
            },
            "type": "scattergeo"
           }
          ],
          "scattergl": [
           {
            "marker": {
             "colorbar": {
              "outlinewidth": 0,
              "ticks": ""
             }
            },
            "type": "scattergl"
           }
          ],
          "scattermapbox": [
           {
            "marker": {
             "colorbar": {
              "outlinewidth": 0,
              "ticks": ""
             }
            },
            "type": "scattermapbox"
           }
          ],
          "scatterpolar": [
           {
            "marker": {
             "colorbar": {
              "outlinewidth": 0,
              "ticks": ""
             }
            },
            "type": "scatterpolar"
           }
          ],
          "scatterpolargl": [
           {
            "marker": {
             "colorbar": {
              "outlinewidth": 0,
              "ticks": ""
             }
            },
            "type": "scatterpolargl"
           }
          ],
          "scatterternary": [
           {
            "marker": {
             "colorbar": {
              "outlinewidth": 0,
              "ticks": ""
             }
            },
            "type": "scatterternary"
           }
          ],
          "surface": [
           {
            "colorbar": {
             "outlinewidth": 0,
             "ticks": ""
            },
            "colorscale": [
             [
              0,
              "#0d0887"
             ],
             [
              0.1111111111111111,
              "#46039f"
             ],
             [
              0.2222222222222222,
              "#7201a8"
             ],
             [
              0.3333333333333333,
              "#9c179e"
             ],
             [
              0.4444444444444444,
              "#bd3786"
             ],
             [
              0.5555555555555556,
              "#d8576b"
             ],
             [
              0.6666666666666666,
              "#ed7953"
             ],
             [
              0.7777777777777778,
              "#fb9f3a"
             ],
             [
              0.8888888888888888,
              "#fdca26"
             ],
             [
              1,
              "#f0f921"
             ]
            ],
            "type": "surface"
           }
          ],
          "table": [
           {
            "cells": {
             "fill": {
              "color": "#EBF0F8"
             },
             "line": {
              "color": "white"
             }
            },
            "header": {
             "fill": {
              "color": "#C8D4E3"
             },
             "line": {
              "color": "white"
             }
            },
            "type": "table"
           }
          ]
         },
         "layout": {
          "annotationdefaults": {
           "arrowcolor": "#2a3f5f",
           "arrowhead": 0,
           "arrowwidth": 1
          },
          "autotypenumbers": "strict",
          "coloraxis": {
           "colorbar": {
            "outlinewidth": 0,
            "ticks": ""
           }
          },
          "colorscale": {
           "diverging": [
            [
             0,
             "#8e0152"
            ],
            [
             0.1,
             "#c51b7d"
            ],
            [
             0.2,
             "#de77ae"
            ],
            [
             0.3,
             "#f1b6da"
            ],
            [
             0.4,
             "#fde0ef"
            ],
            [
             0.5,
             "#f7f7f7"
            ],
            [
             0.6,
             "#e6f5d0"
            ],
            [
             0.7,
             "#b8e186"
            ],
            [
             0.8,
             "#7fbc41"
            ],
            [
             0.9,
             "#4d9221"
            ],
            [
             1,
             "#276419"
            ]
           ],
           "sequential": [
            [
             0,
             "#0d0887"
            ],
            [
             0.1111111111111111,
             "#46039f"
            ],
            [
             0.2222222222222222,
             "#7201a8"
            ],
            [
             0.3333333333333333,
             "#9c179e"
            ],
            [
             0.4444444444444444,
             "#bd3786"
            ],
            [
             0.5555555555555556,
             "#d8576b"
            ],
            [
             0.6666666666666666,
             "#ed7953"
            ],
            [
             0.7777777777777778,
             "#fb9f3a"
            ],
            [
             0.8888888888888888,
             "#fdca26"
            ],
            [
             1,
             "#f0f921"
            ]
           ],
           "sequentialminus": [
            [
             0,
             "#0d0887"
            ],
            [
             0.1111111111111111,
             "#46039f"
            ],
            [
             0.2222222222222222,
             "#7201a8"
            ],
            [
             0.3333333333333333,
             "#9c179e"
            ],
            [
             0.4444444444444444,
             "#bd3786"
            ],
            [
             0.5555555555555556,
             "#d8576b"
            ],
            [
             0.6666666666666666,
             "#ed7953"
            ],
            [
             0.7777777777777778,
             "#fb9f3a"
            ],
            [
             0.8888888888888888,
             "#fdca26"
            ],
            [
             1,
             "#f0f921"
            ]
           ]
          },
          "colorway": [
           "#636efa",
           "#EF553B",
           "#00cc96",
           "#ab63fa",
           "#FFA15A",
           "#19d3f3",
           "#FF6692",
           "#B6E880",
           "#FF97FF",
           "#FECB52"
          ],
          "font": {
           "color": "#2a3f5f"
          },
          "geo": {
           "bgcolor": "white",
           "lakecolor": "white",
           "landcolor": "#E5ECF6",
           "showlakes": true,
           "showland": true,
           "subunitcolor": "white"
          },
          "hoverlabel": {
           "align": "left"
          },
          "hovermode": "closest",
          "mapbox": {
           "style": "light"
          },
          "paper_bgcolor": "white",
          "plot_bgcolor": "#E5ECF6",
          "polar": {
           "angularaxis": {
            "gridcolor": "white",
            "linecolor": "white",
            "ticks": ""
           },
           "bgcolor": "#E5ECF6",
           "radialaxis": {
            "gridcolor": "white",
            "linecolor": "white",
            "ticks": ""
           }
          },
          "scene": {
           "xaxis": {
            "backgroundcolor": "#E5ECF6",
            "gridcolor": "white",
            "gridwidth": 2,
            "linecolor": "white",
            "showbackground": true,
            "ticks": "",
            "zerolinecolor": "white"
           },
           "yaxis": {
            "backgroundcolor": "#E5ECF6",
            "gridcolor": "white",
            "gridwidth": 2,
            "linecolor": "white",
            "showbackground": true,
            "ticks": "",
            "zerolinecolor": "white"
           },
           "zaxis": {
            "backgroundcolor": "#E5ECF6",
            "gridcolor": "white",
            "gridwidth": 2,
            "linecolor": "white",
            "showbackground": true,
            "ticks": "",
            "zerolinecolor": "white"
           }
          },
          "shapedefaults": {
           "line": {
            "color": "#2a3f5f"
           }
          },
          "ternary": {
           "aaxis": {
            "gridcolor": "white",
            "linecolor": "white",
            "ticks": ""
           },
           "baxis": {
            "gridcolor": "white",
            "linecolor": "white",
            "ticks": ""
           },
           "bgcolor": "#E5ECF6",
           "caxis": {
            "gridcolor": "white",
            "linecolor": "white",
            "ticks": ""
           }
          },
          "title": {
           "x": 0.05
          },
          "xaxis": {
           "automargin": true,
           "gridcolor": "white",
           "linecolor": "white",
           "ticks": "",
           "title": {
            "standoff": 15
           },
           "zerolinecolor": "white",
           "zerolinewidth": 2
          },
          "yaxis": {
           "automargin": true,
           "gridcolor": "white",
           "linecolor": "white",
           "ticks": "",
           "title": {
            "standoff": 15
           },
           "zerolinecolor": "white",
           "zerolinewidth": 2
          }
         }
        },
        "width": 1600,
        "xaxis": {
         "anchor": "y",
         "domain": [
          0,
          0.176
         ],
         "range": [
          0,
          1
         ],
         "type": "linear"
        },
        "xaxis10": {
         "anchor": "y10",
         "domain": [
          0.824,
          1
         ],
         "range": [
          300,
          1200
         ],
         "type": "linear"
        },
        "xaxis2": {
         "anchor": "y2",
         "domain": [
          0.206,
          0.382
         ],
         "range": [
          0,
          1
         ],
         "type": "linear"
        },
        "xaxis3": {
         "anchor": "y3",
         "domain": [
          0.412,
          0.588
         ],
         "range": [
          0,
          1
         ],
         "title": {
          "text": "Normalized averaged regrets"
         },
         "type": "linear"
        },
        "xaxis4": {
         "anchor": "y4",
         "domain": [
          0.618,
          0.794
         ],
         "range": [
          0,
          1
         ],
         "type": "linear"
        },
        "xaxis5": {
         "anchor": "y5",
         "domain": [
          0.824,
          1
         ],
         "range": [
          0,
          1
         ],
         "type": "linear"
        },
        "xaxis6": {
         "anchor": "y6",
         "domain": [
          0,
          0.176
         ],
         "range": [
          300,
          1200
         ],
         "type": "linear"
        },
        "xaxis7": {
         "anchor": "y7",
         "domain": [
          0.206,
          0.382
         ],
         "range": [
          300,
          1200
         ],
         "type": "linear"
        },
        "xaxis8": {
         "anchor": "y8",
         "domain": [
          0.412,
          0.588
         ],
         "range": [
          300,
          1200
         ],
         "title": {
          "text": "Averaged sample size per arm"
         },
         "type": "linear"
        },
        "xaxis9": {
         "anchor": "y9",
         "domain": [
          0.618,
          0.794
         ],
         "range": [
          300,
          1200
         ],
         "type": "linear"
        },
        "yaxis": {
         "anchor": "x",
         "autorange": true,
         "domain": [
          0.575,
          1
         ],
         "range": [
          0.09671515344883634,
          1.0062848465511636
         ],
         "type": "linear"
        },
        "yaxis10": {
         "anchor": "x10",
         "autorange": true,
         "domain": [
          0,
          0.425
         ],
         "matches": "y6",
         "range": [
          0.09671515344883634,
          1.0062848465511636
         ],
         "showticklabels": false,
         "type": "linear"
        },
        "yaxis2": {
         "anchor": "x2",
         "autorange": true,
         "domain": [
          0.575,
          1
         ],
         "matches": "y",
         "range": [
          0.09671515344883634,
          1.0062848465511636
         ],
         "showticklabels": false,
         "type": "linear"
        },
        "yaxis3": {
         "anchor": "x3",
         "autorange": true,
         "domain": [
          0.575,
          1
         ],
         "matches": "y",
         "range": [
          0.09671515344883634,
          1.0062848465511636
         ],
         "showticklabels": false,
         "type": "linear"
        },
        "yaxis4": {
         "anchor": "x4",
         "autorange": true,
         "domain": [
          0.575,
          1
         ],
         "matches": "y",
         "range": [
          0.09671515344883634,
          1.0062848465511636
         ],
         "showticklabels": false,
         "type": "linear"
        },
        "yaxis5": {
         "anchor": "x5",
         "autorange": true,
         "domain": [
          0.575,
          1
         ],
         "matches": "y",
         "range": [
          0.09671515344883634,
          1.0062848465511636
         ],
         "showticklabels": false,
         "type": "linear"
        },
        "yaxis6": {
         "anchor": "x6",
         "autorange": true,
         "domain": [
          0,
          0.425
         ],
         "range": [
          0.09671515344883634,
          1.0062848465511636
         ],
         "type": "linear"
        },
        "yaxis7": {
         "anchor": "x7",
         "autorange": true,
         "domain": [
          0,
          0.425
         ],
         "matches": "y6",
         "range": [
          0.09671515344883634,
          1.0062848465511636
         ],
         "showticklabels": false,
         "type": "linear"
        },
        "yaxis8": {
         "anchor": "x8",
         "autorange": true,
         "domain": [
          0,
          0.425
         ],
         "matches": "y6",
         "range": [
          0.09671515344883634,
          1.0062848465511636
         ],
         "showticklabels": false,
         "type": "linear"
        },
        "yaxis9": {
         "anchor": "x9",
         "autorange": true,
         "domain": [
          0,
          0.425
         ],
         "matches": "y6",
         "range": [
          0.09671515344883634,
          1.0062848465511636
         ],
         "showticklabels": false,
         "type": "linear"
        }
       }
      },
      "image/png": "[encoded data removed]"
     },
     "metadata": {},
     "output_type": "display_data"
    }
   ],
   "source": [
    "df = pd.read_csv(\"res_sim_5arm_gauss_var_sigma.csv\")\n",
    "idx2key = {\n",
    "    \"0\": r\"$\\sigma_{\\Delta}^2 = 0.05$\",\n",
    "    \"1\": r\"$\\sigma_{\\Delta}^2 = 0.1$\",\n",
    "    \"2\": r\"$\\sigma_{\\Delta}^2 = 0.2$\",\n",
    "    \"3\": r\"$\\sigma_{\\Delta}^2 = 0.5$\",\n",
    "    \"4\": r\"$\\sigma_{\\Delta}^2 = 1$\",\n",
    "}\n",
    "algos = [\"ES\", \"UES\", \"TSS\", \"UCBS\", \"EGS\", \"PSI\", \"A/B\"]\n",
    "key2data = get_key2data(df, idx2key, algos)\n",
    "print(key2data)\n",
    "fig = sd_return_fig(algos, key2data, 0.21, True, [[0.00, 1.0], [300, 1200]], 8, 0.9)\n",
    "# print(fig.layout)\n",
    "fig.show()\n",
    "plotly.io.write_image(fig, 'sim_5arm_gauss_var_sigma.pdf', format='pdf')"
   ]
  },
  {
   "cell_type": "code",
   "execution_count": 38,
   "metadata": {},
   "outputs": [
    {
     "data": {
      "text/html": [
       "<div>\n",
       "<style scoped>\n",
       "    .dataframe tbody tr th:only-of-type {\n",
       "        vertical-align: middle;\n",
       "    }\n",
       "\n",
       "    .dataframe tbody tr th {\n",
       "        vertical-align: top;\n",
       "    }\n",
       "\n",
       "    .dataframe thead th {\n",
       "        text-align: right;\n",
       "    }\n",
       "</style>\n",
       "<table border=\"1\" class=\"dataframe\">\n",
       "  <thead>\n",
       "    <tr style=\"text-align: right;\">\n",
       "      <th></th>\n",
       "      <th>ES_0</th>\n",
       "      <th>ES_1</th>\n",
       "      <th>ES_2</th>\n",
       "      <th>UES_0</th>\n",
       "      <th>UES_1</th>\n",
       "      <th>UES_2</th>\n",
       "      <th>TSS_0</th>\n",
       "      <th>TSS_1</th>\n",
       "      <th>TSS_2</th>\n",
       "      <th>UCBS_0</th>\n",
       "      <th>...</th>\n",
       "      <th>UCBS_2</th>\n",
       "      <th>EGS_0</th>\n",
       "      <th>EGS_1</th>\n",
       "      <th>EGS_2</th>\n",
       "      <th>PSI_0</th>\n",
       "      <th>PSI_1</th>\n",
       "      <th>PSI_2</th>\n",
       "      <th>A/B_0</th>\n",
       "      <th>A/B_1</th>\n",
       "      <th>A/B_2</th>\n",
       "    </tr>\n",
       "  </thead>\n",
       "  <tbody>\n",
       "    <tr>\n",
       "      <th>0</th>\n",
       "      <td>0.655</td>\n",
       "      <td>720.661</td>\n",
       "      <td>0.0125</td>\n",
       "      <td>0.587</td>\n",
       "      <td>771.055</td>\n",
       "      <td>0.1102</td>\n",
       "      <td>0.619</td>\n",
       "      <td>766.182</td>\n",
       "      <td>0.0248</td>\n",
       "      <td>0.632</td>\n",
       "      <td>...</td>\n",
       "      <td>0.0374</td>\n",
       "      <td>0.607</td>\n",
       "      <td>789.901</td>\n",
       "      <td>0.0134</td>\n",
       "      <td>0.483</td>\n",
       "      <td>743.445</td>\n",
       "      <td>0.0109</td>\n",
       "      <td>0.378</td>\n",
       "      <td>1000</td>\n",
       "      <td>0.1251</td>\n",
       "    </tr>\n",
       "    <tr>\n",
       "      <th>1</th>\n",
       "      <td>0.858</td>\n",
       "      <td>622.204</td>\n",
       "      <td>0.0124</td>\n",
       "      <td>0.832</td>\n",
       "      <td>630.529</td>\n",
       "      <td>0.0529</td>\n",
       "      <td>0.778</td>\n",
       "      <td>705.781</td>\n",
       "      <td>0.0139</td>\n",
       "      <td>0.845</td>\n",
       "      <td>...</td>\n",
       "      <td>0.0253</td>\n",
       "      <td>0.711</td>\n",
       "      <td>707.540</td>\n",
       "      <td>0.0091</td>\n",
       "      <td>0.525</td>\n",
       "      <td>731.802</td>\n",
       "      <td>0.0180</td>\n",
       "      <td>0.441</td>\n",
       "      <td>1000</td>\n",
       "      <td>0.0702</td>\n",
       "    </tr>\n",
       "    <tr>\n",
       "      <th>2</th>\n",
       "      <td>0.824</td>\n",
       "      <td>752.246</td>\n",
       "      <td>0.0091</td>\n",
       "      <td>0.783</td>\n",
       "      <td>787.181</td>\n",
       "      <td>0.0319</td>\n",
       "      <td>0.651</td>\n",
       "      <td>902.869</td>\n",
       "      <td>0.0093</td>\n",
       "      <td>0.805</td>\n",
       "      <td>...</td>\n",
       "      <td>0.0132</td>\n",
       "      <td>0.562</td>\n",
       "      <td>893.590</td>\n",
       "      <td>0.0064</td>\n",
       "      <td>0.314</td>\n",
       "      <td>945.249</td>\n",
       "      <td>0.0183</td>\n",
       "      <td>0.220</td>\n",
       "      <td>1000</td>\n",
       "      <td>0.0424</td>\n",
       "    </tr>\n",
       "    <tr>\n",
       "      <th>3</th>\n",
       "      <td>0.730</td>\n",
       "      <td>929.621</td>\n",
       "      <td>0.0071</td>\n",
       "      <td>0.665</td>\n",
       "      <td>966.015</td>\n",
       "      <td>0.0257</td>\n",
       "      <td>0.515</td>\n",
       "      <td>1100.518</td>\n",
       "      <td>0.0077</td>\n",
       "      <td>0.696</td>\n",
       "      <td>...</td>\n",
       "      <td>0.0098</td>\n",
       "      <td>0.423</td>\n",
       "      <td>1114.251</td>\n",
       "      <td>0.0051</td>\n",
       "      <td>0.160</td>\n",
       "      <td>1183.833</td>\n",
       "      <td>0.0169</td>\n",
       "      <td>0.100</td>\n",
       "      <td>1000</td>\n",
       "      <td>0.0317</td>\n",
       "    </tr>\n",
       "  </tbody>\n",
       "</table>\n",
       "<p>4 rows × 21 columns</p>\n",
       "</div>"
      ],
      "text/plain": [
       "    ES_0     ES_1    ES_2  UES_0    UES_1   UES_2  TSS_0     TSS_1   TSS_2  \\\n",
       "0  0.655  720.661  0.0125  0.587  771.055  0.1102  0.619   766.182  0.0248   \n",
       "1  0.858  622.204  0.0124  0.832  630.529  0.0529  0.778   705.781  0.0139   \n",
       "2  0.824  752.246  0.0091  0.783  787.181  0.0319  0.651   902.869  0.0093   \n",
       "3  0.730  929.621  0.0071  0.665  966.015  0.0257  0.515  1100.518  0.0077   \n",
       "\n",
       "   UCBS_0  ...  UCBS_2  EGS_0     EGS_1   EGS_2  PSI_0     PSI_1   PSI_2  \\\n",
       "0   0.632  ...  0.0374  0.607   789.901  0.0134  0.483   743.445  0.0109   \n",
       "1   0.845  ...  0.0253  0.711   707.540  0.0091  0.525   731.802  0.0180   \n",
       "2   0.805  ...  0.0132  0.562   893.590  0.0064  0.314   945.249  0.0183   \n",
       "3   0.696  ...  0.0098  0.423  1114.251  0.0051  0.160  1183.833  0.0169   \n",
       "\n",
       "   A/B_0  A/B_1   A/B_2  \n",
       "0  0.378   1000  0.1251  \n",
       "1  0.441   1000  0.0702  \n",
       "2  0.220   1000  0.0424  \n",
       "3  0.100   1000  0.0317  \n",
       "\n",
       "[4 rows x 21 columns]"
      ]
     },
     "execution_count": 38,
     "metadata": {},
     "output_type": "execute_result"
    }
   ],
   "source": [
    "df = pd.read_csv(\"res_sim_gauss_var_numd.csv\")\n",
    "df"
   ]
  },
  {
   "cell_type": "code",
   "execution_count": 39,
   "metadata": {},
   "outputs": [
    {
     "name": "stdout",
     "output_type": "stream",
     "text": [
      "{'$D = 2$': {'ES': {'power': 0.655, 'samples': 720.661, 'regret': 0.0125}, 'UES': {'power': 0.587, 'samples': 771.055, 'regret': 0.1102}, 'TSS': {'power': 0.619, 'samples': 766.182, 'regret': 0.0248}, 'UCBS': {'power': 0.632, 'samples': 799.366, 'regret': 0.0374}, 'EGS': {'power': 0.607, 'samples': 789.901, 'regret': 0.0134}, 'PSI': {'power': 0.483, 'samples': 743.445, 'regret': 0.0109}, 'A/B': {'power': 0.378, 'samples': 1000.0, 'regret': 0.1251}}, '$D = 5$': {'ES': {'power': 0.858, 'samples': 622.204, 'regret': 0.0124}, 'UES': {'power': 0.832, 'samples': 630.529, 'regret': 0.0529}, 'TSS': {'power': 0.778, 'samples': 705.781, 'regret': 0.0139}, 'UCBS': {'power': 0.845, 'samples': 679.368, 'regret': 0.0253}, 'EGS': {'power': 0.711, 'samples': 707.54, 'regret': 0.0091}, 'PSI': {'power': 0.525, 'samples': 731.802, 'regret': 0.018}, 'A/B': {'power': 0.441, 'samples': 1000.0, 'regret': 0.0702}}, '$D = 10$': {'ES': {'power': 0.824, 'samples': 752.246, 'regret': 0.0091}, 'UES': {'power': 0.783, 'samples': 787.181, 'regret': 0.0319}, 'TSS': {'power': 0.651, 'samples': 902.869, 'regret': 0.0093}, 'UCBS': {'power': 0.805, 'samples': 825.91, 'regret': 0.0132}, 'EGS': {'power': 0.562, 'samples': 893.59, 'regret': 0.0064}, 'PSI': {'power': 0.314, 'samples': 945.249, 'regret': 0.0183}, 'A/B': {'power': 0.22, 'samples': 1000.0, 'regret': 0.0424}}, '$D = 15$': {'ES': {'power': 0.73, 'samples': 929.621, 'regret': 0.0071}, 'UES': {'power': 0.665, 'samples': 966.015, 'regret': 0.0257}, 'TSS': {'power': 0.515, 'samples': 1100.518, 'regret': 0.0077}, 'UCBS': {'power': 0.696, 'samples': 969.603, 'regret': 0.0098}, 'EGS': {'power': 0.423, 'samples': 1114.251, 'regret': 0.0051}, 'PSI': {'power': 0.16, 'samples': 1183.833, 'regret': 0.0169}, 'A/B': {'power': 0.1, 'samples': 1000.0, 'regret': 0.0317}}}\n"
     ]
    },
    {
     "data": {
      "application/vnd.plotly.v1+json": {
       "config": {
        "plotlyServerURL": "https://plot.ly"
       },
       "data": [
        {
         "legendgroup": "ES",
         "marker": {
          "color": [
           "red"
          ],
          "size": 8,
          "symbol": [
           "square"
          ]
         },
         "mode": "markers",
         "name": "ES",
         "orientation": "h",
         "showlegend": true,
         "type": "scatter",
         "x": [
          0.09615384615384616
         ],
         "xaxis": "x",
         "y": [
          0.655
         ],
         "yaxis": "y"
        },
        {
         "legendgroup": "ES",
         "marker": {
          "color": [
           "red"
          ],
          "size": 8,
          "symbol": [
           "square"
          ]
         },
         "mode": "markers",
         "name": "ES",
         "orientation": "h",
         "showlegend": false,
         "type": "scatter",
         "x": [
          720.661
         ],
         "xaxis": "x5",
         "y": [
          0.655
         ],
         "yaxis": "y5"
        },
        {
         "legendgroup": "UES",
         "marker": {
          "color": [
           "yellowgreen"
          ],
          "size": 8,
          "symbol": [
           "star"
          ]
         },
         "mode": "markers",
         "name": "UES",
         "orientation": "h",
         "showlegend": true,
         "type": "scatter",
         "x": [
          0.8476923076923077
         ],
         "xaxis": "x",
         "y": [
          0.587
         ],
         "yaxis": "y"
        },
        {
         "legendgroup": "UES",
         "marker": {
          "color": [
           "yellowgreen"
          ],
          "size": 8,
          "symbol": [
           "star"
          ]
         },
         "mode": "markers",
         "name": "UES",
         "orientation": "h",
         "showlegend": false,
         "type": "scatter",
         "x": [
          771.055
         ],
         "xaxis": "x5",
         "y": [
          0.587
         ],
         "yaxis": "y5"
        },
        {
         "legendgroup": "TSS",
         "marker": {
          "color": [
           "blueviolet"
          ],
          "size": 8,
          "symbol": [
           "triangle-up"
          ]
         },
         "mode": "markers",
         "name": "TSS",
         "orientation": "h",
         "showlegend": true,
         "type": "scatter",
         "x": [
          0.19076923076923075
         ],
         "xaxis": "x",
         "y": [
          0.619
         ],
         "yaxis": "y"
        },
        {
         "legendgroup": "TSS",
         "marker": {
          "color": [
           "blueviolet"
          ],
          "size": 8,
          "symbol": [
           "triangle-up"
          ]
         },
         "mode": "markers",
         "name": "TSS",
         "orientation": "h",
         "showlegend": false,
         "type": "scatter",
         "x": [
          766.182
         ],
         "xaxis": "x5",
         "y": [
          0.619
         ],
         "yaxis": "y5"
        },
        {
         "legendgroup": "UCBS",
         "marker": {
          "color": [
           "maroon"
          ],
          "size": 8,
          "symbol": [
           "x"
          ]
         },
         "mode": "markers",
         "name": "UCBS",
         "orientation": "h",
         "showlegend": true,
         "type": "scatter",
         "x": [
          0.2876923076923077
         ],
         "xaxis": "x",
         "y": [
          0.632
         ],
         "yaxis": "y"
        },
        {
         "legendgroup": "UCBS",
         "marker": {
          "color": [
           "maroon"
          ],
          "size": 8,
          "symbol": [
           "x"
          ]
         },
         "mode": "markers",
         "name": "UCBS",
         "orientation": "h",
         "showlegend": false,
         "type": "scatter",
         "x": [
          799.366
         ],
         "xaxis": "x5",
         "y": [
          0.632
         ],
         "yaxis": "y5"
        },
        {
         "legendgroup": "EGS",
         "marker": {
          "color": [
           "darkgray"
          ],
          "size": 8,
          "symbol": [
           "diamond"
          ]
         },
         "mode": "markers",
         "name": "EGS",
         "orientation": "h",
         "showlegend": true,
         "type": "scatter",
         "x": [
          0.10307692307692308
         ],
         "xaxis": "x",
         "y": [
          0.607
         ],
         "yaxis": "y"
        },
        {
         "legendgroup": "EGS",
         "marker": {
          "color": [
           "darkgray"
          ],
          "size": 8,
          "symbol": [
           "diamond"
          ]
         },
         "mode": "markers",
         "name": "EGS",
         "orientation": "h",
         "showlegend": false,
         "type": "scatter",
         "x": [
          789.901
         ],
         "xaxis": "x5",
         "y": [
          0.607
         ],
         "yaxis": "y5"
        },
        {
         "legendgroup": "PSI",
         "marker": {
          "color": [
           "black"
          ],
          "size": 8,
          "symbol": [
           "pentagon"
          ]
         },
         "mode": "markers",
         "name": "PSI",
         "orientation": "h",
         "showlegend": true,
         "type": "scatter",
         "x": [
          0.08384615384615385
         ],
         "xaxis": "x",
         "y": [
          0.483
         ],
         "yaxis": "y"
        },
        {
         "legendgroup": "PSI",
         "marker": {
          "color": [
           "black"
          ],
          "size": 8,
          "symbol": [
           "pentagon"
          ]
         },
         "mode": "markers",
         "name": "PSI",
         "orientation": "h",
         "showlegend": false,
         "type": "scatter",
         "x": [
          743.445
         ],
         "xaxis": "x5",
         "y": [
          0.483
         ],
         "yaxis": "y5"
        },
        {
         "legendgroup": "A/B",
         "marker": {
          "color": [
           "lime"
          ],
          "size": 8,
          "symbol": [
           "circle"
          ]
         },
         "mode": "markers",
         "name": "A/B",
         "orientation": "h",
         "showlegend": true,
         "type": "scatter",
         "x": [
          0.9623076923076922
         ],
         "xaxis": "x",
         "y": [
          0.378
         ],
         "yaxis": "y"
        },
        {
         "legendgroup": "A/B",
         "marker": {
          "color": [
           "lime"
          ],
          "size": 8,
          "symbol": [
           "circle"
          ]
         },
         "mode": "markers",
         "name": "A/B",
         "orientation": "h",
         "showlegend": false,
         "type": "scatter",
         "x": [
          1000
         ],
         "xaxis": "x5",
         "y": [
          0.378
         ],
         "yaxis": "y5"
        },
        {
         "legendgroup": "ES",
         "marker": {
          "color": [
           "red"
          ],
          "size": 8,
          "symbol": [
           "square"
          ]
         },
         "mode": "markers",
         "name": "ES",
         "orientation": "h",
         "showlegend": false,
         "type": "scatter",
         "x": [
          0.09538461538461537
         ],
         "xaxis": "x2",
         "y": [
          0.858
         ],
         "yaxis": "y2"
        },
        {
         "legendgroup": "ES",
         "marker": {
          "color": [
           "red"
          ],
          "size": 8,
          "symbol": [
           "square"
          ]
         },
         "mode": "markers",
         "name": "ES",
         "orientation": "h",
         "showlegend": false,
         "type": "scatter",
         "x": [
          622.204
         ],
         "xaxis": "x6",
         "y": [
          0.858
         ],
         "yaxis": "y6"
        },
        {
         "legendgroup": "UES",
         "marker": {
          "color": [
           "yellowgreen"
          ],
          "size": 8,
          "symbol": [
           "star"
          ]
         },
         "mode": "markers",
         "name": "UES",
         "orientation": "h",
         "showlegend": false,
         "type": "scatter",
         "x": [
          0.40692307692307694
         ],
         "xaxis": "x2",
         "y": [
          0.832
         ],
         "yaxis": "y2"
        },
        {
         "legendgroup": "UES",
         "marker": {
          "color": [
           "yellowgreen"
          ],
          "size": 8,
          "symbol": [
           "star"
          ]
         },
         "mode": "markers",
         "name": "UES",
         "orientation": "h",
         "showlegend": false,
         "type": "scatter",
         "x": [
          630.529
         ],
         "xaxis": "x6",
         "y": [
          0.832
         ],
         "yaxis": "y6"
        },
        {
         "legendgroup": "TSS",
         "marker": {
          "color": [
           "blueviolet"
          ],
          "size": 8,
          "symbol": [
           "triangle-up"
          ]
         },
         "mode": "markers",
         "name": "TSS",
         "orientation": "h",
         "showlegend": false,
         "type": "scatter",
         "x": [
          0.10692307692307691
         ],
         "xaxis": "x2",
         "y": [
          0.778
         ],
         "yaxis": "y2"
        },
        {
         "legendgroup": "TSS",
         "marker": {
          "color": [
           "blueviolet"
          ],
          "size": 8,
          "symbol": [
           "triangle-up"
          ]
         },
         "mode": "markers",
         "name": "TSS",
         "orientation": "h",
         "showlegend": false,
         "type": "scatter",
         "x": [
          705.781
         ],
         "xaxis": "x6",
         "y": [
          0.778
         ],
         "yaxis": "y6"
        },
        {
         "legendgroup": "UCBS",
         "marker": {
          "color": [
           "maroon"
          ],
          "size": 8,
          "symbol": [
           "x"
          ]
         },
         "mode": "markers",
         "name": "UCBS",
         "orientation": "h",
         "showlegend": false,
         "type": "scatter",
         "x": [
          0.1946153846153846
         ],
         "xaxis": "x2",
         "y": [
          0.845
         ],
         "yaxis": "y2"
        },
        {
         "legendgroup": "UCBS",
         "marker": {
          "color": [
           "maroon"
          ],
          "size": 8,
          "symbol": [
           "x"
          ]
         },
         "mode": "markers",
         "name": "UCBS",
         "orientation": "h",
         "showlegend": false,
         "type": "scatter",
         "x": [
          679.368
         ],
         "xaxis": "x6",
         "y": [
          0.845
         ],
         "yaxis": "y6"
        },
        {
         "legendgroup": "EGS",
         "marker": {
          "color": [
           "darkgray"
          ],
          "size": 8,
          "symbol": [
           "diamond"
          ]
         },
         "mode": "markers",
         "name": "EGS",
         "orientation": "h",
         "showlegend": false,
         "type": "scatter",
         "x": [
          0.07
         ],
         "xaxis": "x2",
         "y": [
          0.711
         ],
         "yaxis": "y2"
        },
        {
         "legendgroup": "EGS",
         "marker": {
          "color": [
           "darkgray"
          ],
          "size": 8,
          "symbol": [
           "diamond"
          ]
         },
         "mode": "markers",
         "name": "EGS",
         "orientation": "h",
         "showlegend": false,
         "type": "scatter",
         "x": [
          707.54
         ],
         "xaxis": "x6",
         "y": [
          0.711
         ],
         "yaxis": "y6"
        },
        {
         "legendgroup": "PSI",
         "marker": {
          "color": [
           "black"
          ],
          "size": 8,
          "symbol": [
           "pentagon"
          ]
         },
         "mode": "markers",
         "name": "PSI",
         "orientation": "h",
         "showlegend": false,
         "type": "scatter",
         "x": [
          0.13846153846153844
         ],
         "xaxis": "x2",
         "y": [
          0.525
         ],
         "yaxis": "y2"
        },
        {
         "legendgroup": "PSI",
         "marker": {
          "color": [
           "black"
          ],
          "size": 8,
          "symbol": [
           "pentagon"
          ]
         },
         "mode": "markers",
         "name": "PSI",
         "orientation": "h",
         "showlegend": false,
         "type": "scatter",
         "x": [
          731.802
         ],
         "xaxis": "x6",
         "y": [
          0.525
         ],
         "yaxis": "y6"
        },
        {
         "legendgroup": "A/B",
         "marker": {
          "color": [
           "lime"
          ],
          "size": 8,
          "symbol": [
           "circle"
          ]
         },
         "mode": "markers",
         "name": "A/B",
         "orientation": "h",
         "showlegend": false,
         "type": "scatter",
         "x": [
          0.5399999999999999
         ],
         "xaxis": "x2",
         "y": [
          0.441
         ],
         "yaxis": "y2"
        },
        {
         "legendgroup": "A/B",
         "marker": {
          "color": [
           "lime"
          ],
          "size": 8,
          "symbol": [
           "circle"
          ]
         },
         "mode": "markers",
         "name": "A/B",
         "orientation": "h",
         "showlegend": false,
         "type": "scatter",
         "x": [
          1000
         ],
         "xaxis": "x6",
         "y": [
          0.441
         ],
         "yaxis": "y6"
        },
        {
         "legendgroup": "ES",
         "marker": {
          "color": [
           "red"
          ],
          "size": 8,
          "symbol": [
           "square"
          ]
         },
         "mode": "markers",
         "name": "ES",
         "orientation": "h",
         "showlegend": false,
         "type": "scatter",
         "x": [
          0.07
         ],
         "xaxis": "x3",
         "y": [
          0.824
         ],
         "yaxis": "y3"
        },
        {
         "legendgroup": "ES",
         "marker": {
          "color": [
           "red"
          ],
          "size": 8,
          "symbol": [
           "square"
          ]
         },
         "mode": "markers",
         "name": "ES",
         "orientation": "h",
         "showlegend": false,
         "type": "scatter",
         "x": [
          752.246
         ],
         "xaxis": "x7",
         "y": [
          0.824
         ],
         "yaxis": "y7"
        },
        {
         "legendgroup": "UES",
         "marker": {
          "color": [
           "yellowgreen"
          ],
          "size": 8,
          "symbol": [
           "star"
          ]
         },
         "mode": "markers",
         "name": "UES",
         "orientation": "h",
         "showlegend": false,
         "type": "scatter",
         "x": [
          0.24538461538461537
         ],
         "xaxis": "x3",
         "y": [
          0.783
         ],
         "yaxis": "y3"
        },
        {
         "legendgroup": "UES",
         "marker": {
          "color": [
           "yellowgreen"
          ],
          "size": 8,
          "symbol": [
           "star"
          ]
         },
         "mode": "markers",
         "name": "UES",
         "orientation": "h",
         "showlegend": false,
         "type": "scatter",
         "x": [
          787.181
         ],
         "xaxis": "x7",
         "y": [
          0.783
         ],
         "yaxis": "y7"
        },
        {
         "legendgroup": "TSS",
         "marker": {
          "color": [
           "blueviolet"
          ],
          "size": 8,
          "symbol": [
           "triangle-up"
          ]
         },
         "mode": "markers",
         "name": "TSS",
         "orientation": "h",
         "showlegend": false,
         "type": "scatter",
         "x": [
          0.07153846153846154
         ],
         "xaxis": "x3",
         "y": [
          0.651
         ],
         "yaxis": "y3"
        },
        {
         "legendgroup": "TSS",
         "marker": {
          "color": [
           "blueviolet"
          ],
          "size": 8,
          "symbol": [
           "triangle-up"
          ]
         },
         "mode": "markers",
         "name": "TSS",
         "orientation": "h",
         "showlegend": false,
         "type": "scatter",
         "x": [
          902.869
         ],
         "xaxis": "x7",
         "y": [
          0.651
         ],
         "yaxis": "y7"
        },
        {
         "legendgroup": "UCBS",
         "marker": {
          "color": [
           "maroon"
          ],
          "size": 8,
          "symbol": [
           "x"
          ]
         },
         "mode": "markers",
         "name": "UCBS",
         "orientation": "h",
         "showlegend": false,
         "type": "scatter",
         "x": [
          0.10153846153846154
         ],
         "xaxis": "x3",
         "y": [
          0.805
         ],
         "yaxis": "y3"
        },
        {
         "legendgroup": "UCBS",
         "marker": {
          "color": [
           "maroon"
          ],
          "size": 8,
          "symbol": [
           "x"
          ]
         },
         "mode": "markers",
         "name": "UCBS",
         "orientation": "h",
         "showlegend": false,
         "type": "scatter",
         "x": [
          825.91
         ],
         "xaxis": "x7",
         "y": [
          0.805
         ],
         "yaxis": "y7"
        },
        {
         "legendgroup": "EGS",
         "marker": {
          "color": [
           "darkgray"
          ],
          "size": 8,
          "symbol": [
           "diamond"
          ]
         },
         "mode": "markers",
         "name": "EGS",
         "orientation": "h",
         "showlegend": false,
         "type": "scatter",
         "x": [
          0.04923076923076923
         ],
         "xaxis": "x3",
         "y": [
          0.562
         ],
         "yaxis": "y3"
        },
        {
         "legendgroup": "EGS",
         "marker": {
          "color": [
           "darkgray"
          ],
          "size": 8,
          "symbol": [
           "diamond"
          ]
         },
         "mode": "markers",
         "name": "EGS",
         "orientation": "h",
         "showlegend": false,
         "type": "scatter",
         "x": [
          893.59
         ],
         "xaxis": "x7",
         "y": [
          0.562
         ],
         "yaxis": "y7"
        },
        {
         "legendgroup": "PSI",
         "marker": {
          "color": [
           "black"
          ],
          "size": 8,
          "symbol": [
           "pentagon"
          ]
         },
         "mode": "markers",
         "name": "PSI",
         "orientation": "h",
         "showlegend": false,
         "type": "scatter",
         "x": [
          0.14076923076923076
         ],
         "xaxis": "x3",
         "y": [
          0.314
         ],
         "yaxis": "y3"
        },
        {
         "legendgroup": "PSI",
         "marker": {
          "color": [
           "black"
          ],
          "size": 8,
          "symbol": [
           "pentagon"
          ]
         },
         "mode": "markers",
         "name": "PSI",
         "orientation": "h",
         "showlegend": false,
         "type": "scatter",
         "x": [
          945.249
         ],
         "xaxis": "x7",
         "y": [
          0.314
         ],
         "yaxis": "y7"
        },
        {
         "legendgroup": "A/B",
         "marker": {
          "color": [
           "lime"
          ],
          "size": 8,
          "symbol": [
           "circle"
          ]
         },
         "mode": "markers",
         "name": "A/B",
         "orientation": "h",
         "showlegend": false,
         "type": "scatter",
         "x": [
          0.3261538461538461
         ],
         "xaxis": "x3",
         "y": [
          0.22
         ],
         "yaxis": "y3"
        },
        {
         "legendgroup": "A/B",
         "marker": {
          "color": [
           "lime"
          ],
          "size": 8,
          "symbol": [
           "circle"
          ]
         },
         "mode": "markers",
         "name": "A/B",
         "orientation": "h",
         "showlegend": false,
         "type": "scatter",
         "x": [
          1000
         ],
         "xaxis": "x7",
         "y": [
          0.22
         ],
         "yaxis": "y7"
        },
        {
         "legendgroup": "ES",
         "marker": {
          "color": [
           "red"
          ],
          "size": 8,
          "symbol": [
           "square"
          ]
         },
         "mode": "markers",
         "name": "ES",
         "orientation": "h",
         "showlegend": false,
         "type": "scatter",
         "x": [
          0.054615384615384614
         ],
         "xaxis": "x4",
         "y": [
          0.73
         ],
         "yaxis": "y4"
        },
        {
         "legendgroup": "ES",
         "marker": {
          "color": [
           "red"
          ],
          "size": 8,
          "symbol": [
           "square"
          ]
         },
         "mode": "markers",
         "name": "ES",
         "orientation": "h",
         "showlegend": false,
         "type": "scatter",
         "x": [
          929.621
         ],
         "xaxis": "x8",
         "y": [
          0.73
         ],
         "yaxis": "y8"
        },
        {
         "legendgroup": "UES",
         "marker": {
          "color": [
           "yellowgreen"
          ],
          "size": 8,
          "symbol": [
           "star"
          ]
         },
         "mode": "markers",
         "name": "UES",
         "orientation": "h",
         "showlegend": false,
         "type": "scatter",
         "x": [
          0.1976923076923077
         ],
         "xaxis": "x4",
         "y": [
          0.665
         ],
         "yaxis": "y4"
        },
        {
         "legendgroup": "UES",
         "marker": {
          "color": [
           "yellowgreen"
          ],
          "size": 8,
          "symbol": [
           "star"
          ]
         },
         "mode": "markers",
         "name": "UES",
         "orientation": "h",
         "showlegend": false,
         "type": "scatter",
         "x": [
          966.015
         ],
         "xaxis": "x8",
         "y": [
          0.665
         ],
         "yaxis": "y8"
        },
        {
         "legendgroup": "TSS",
         "marker": {
          "color": [
           "blueviolet"
          ],
          "size": 8,
          "symbol": [
           "triangle-up"
          ]
         },
         "mode": "markers",
         "name": "TSS",
         "orientation": "h",
         "showlegend": false,
         "type": "scatter",
         "x": [
          0.05923076923076923
         ],
         "xaxis": "x4",
         "y": [
          0.515
         ],
         "yaxis": "y4"
        },
        {
         "legendgroup": "TSS",
         "marker": {
          "color": [
           "blueviolet"
          ],
          "size": 8,
          "symbol": [
           "triangle-up"
          ]
         },
         "mode": "markers",
         "name": "TSS",
         "orientation": "h",
         "showlegend": false,
         "type": "scatter",
         "x": [
          1100.518
         ],
         "xaxis": "x8",
         "y": [
          0.515
         ],
         "yaxis": "y8"
        },
        {
         "legendgroup": "UCBS",
         "marker": {
          "color": [
           "maroon"
          ],
          "size": 8,
          "symbol": [
           "x"
          ]
         },
         "mode": "markers",
         "name": "UCBS",
         "orientation": "h",
         "showlegend": false,
         "type": "scatter",
         "x": [
          0.07538461538461538
         ],
         "xaxis": "x4",
         "y": [
          0.696
         ],
         "yaxis": "y4"
        },
        {
         "legendgroup": "UCBS",
         "marker": {
          "color": [
           "maroon"
          ],
          "size": 8,
          "symbol": [
           "x"
          ]
         },
         "mode": "markers",
         "name": "UCBS",
         "orientation": "h",
         "showlegend": false,
         "type": "scatter",
         "x": [
          969.603
         ],
         "xaxis": "x8",
         "y": [
          0.696
         ],
         "yaxis": "y8"
        },
        {
         "legendgroup": "EGS",
         "marker": {
          "color": [
           "darkgray"
          ],
          "size": 8,
          "symbol": [
           "diamond"
          ]
         },
         "mode": "markers",
         "name": "EGS",
         "orientation": "h",
         "showlegend": false,
         "type": "scatter",
         "x": [
          0.03923076923076923
         ],
         "xaxis": "x4",
         "y": [
          0.423
         ],
         "yaxis": "y4"
        },
        {
         "legendgroup": "EGS",
         "marker": {
          "color": [
           "darkgray"
          ],
          "size": 8,
          "symbol": [
           "diamond"
          ]
         },
         "mode": "markers",
         "name": "EGS",
         "orientation": "h",
         "showlegend": false,
         "type": "scatter",
         "x": [
          1114.251
         ],
         "xaxis": "x8",
         "y": [
          0.423
         ],
         "yaxis": "y8"
        },
        {
         "legendgroup": "PSI",
         "marker": {
          "color": [
           "black"
          ],
          "size": 8,
          "symbol": [
           "pentagon"
          ]
         },
         "mode": "markers",
         "name": "PSI",
         "orientation": "h",
         "showlegend": false,
         "type": "scatter",
         "x": [
          0.12999999999999998
         ],
         "xaxis": "x4",
         "y": [
          0.16
         ],
         "yaxis": "y4"
        },
        {
         "legendgroup": "PSI",
         "marker": {
          "color": [
           "black"
          ],
          "size": 8,
          "symbol": [
           "pentagon"
          ]
         },
         "mode": "markers",
         "name": "PSI",
         "orientation": "h",
         "showlegend": false,
         "type": "scatter",
         "x": [
          1183.833
         ],
         "xaxis": "x8",
         "y": [
          0.16
         ],
         "yaxis": "y8"
        },
        {
         "legendgroup": "A/B",
         "marker": {
          "color": [
           "lime"
          ],
          "size": 8,
          "symbol": [
           "circle"
          ]
         },
         "mode": "markers",
         "name": "A/B",
         "orientation": "h",
         "showlegend": false,
         "type": "scatter",
         "x": [
          0.24384615384615382
         ],
         "xaxis": "x4",
         "y": [
          0.1
         ],
         "yaxis": "y4"
        },
        {
         "legendgroup": "A/B",
         "marker": {
          "color": [
           "lime"
          ],
          "size": 8,
          "symbol": [
           "circle"
          ]
         },
         "mode": "markers",
         "name": "A/B",
         "orientation": "h",
         "showlegend": false,
         "type": "scatter",
         "x": [
          1000
         ],
         "xaxis": "x8",
         "y": [
          0.1
         ],
         "yaxis": "y8"
        }
       ],
       "layout": {
        "annotations": [
         {
          "font": {
           "size": 20
          },
          "showarrow": false,
          "text": "$D = 2$",
          "x": 0.11375,
          "xanchor": "center",
          "xref": "paper",
          "y": 1,
          "yanchor": "bottom",
          "yref": "paper"
         },
         {
          "font": {
           "size": 20
          },
          "showarrow": false,
          "text": "$D = 5$",
          "x": 0.37124999999999997,
          "xanchor": "center",
          "xref": "paper",
          "y": 1,
          "yanchor": "bottom",
          "yref": "paper"
         },
         {
          "font": {
           "size": 20
          },
          "showarrow": false,
          "text": "$D = 10$",
          "x": 0.62875,
          "xanchor": "center",
          "xref": "paper",
          "y": 1,
          "yanchor": "bottom",
          "yref": "paper"
         },
         {
          "font": {
           "size": 20
          },
          "showarrow": false,
          "text": "$D = 15$",
          "x": 0.88625,
          "xanchor": "center",
          "xref": "paper",
          "y": 1,
          "yanchor": "bottom",
          "yref": "paper"
         },
         {
          "font": {
           "size": 20
          },
          "showarrow": false,
          "text": "Power",
          "textangle": -90,
          "x": 0,
          "xanchor": "right",
          "xref": "paper",
          "xshift": -40,
          "y": 0.5,
          "yanchor": "middle",
          "yref": "paper"
         },
         {
          "font": {
           "size": 19
          },
          "showarrow": false,
          "text": "Normalized averaged regrets",
          "x": 0.4,
          "xanchor": "left",
          "xref": "paper",
          "y": 0.5,
          "yref": "paper"
         },
         {
          "font": {
           "size": 19
          },
          "showarrow": false,
          "text": "Averaged sample size per arm",
          "x": 0.4,
          "xanchor": "left",
          "xref": "paper",
          "y": -0.1,
          "yref": "paper"
         }
        ],
        "font": {
         "size": 16
        },
        "height": 800,
        "legend": {
         "orientation": "h",
         "x": 0.33,
         "y": -0.15
        },
        "plot_bgcolor": "rgb(242,242,242)",
        "shapes": [
         {
          "type": "line",
          "x0": 0,
          "x1": 1,
          "xref": "x domain",
          "y0": 0.8,
          "y1": 0.8,
          "yref": "y"
         },
         {
          "type": "line",
          "x0": 0,
          "x1": 1,
          "xref": "x2 domain",
          "y0": 0.8,
          "y1": 0.8,
          "yref": "y2"
         },
         {
          "type": "line",
          "x0": 0,
          "x1": 1,
          "xref": "x3 domain",
          "y0": 0.8,
          "y1": 0.8,
          "yref": "y3"
         },
         {
          "type": "line",
          "x0": 0,
          "x1": 1,
          "xref": "x4 domain",
          "y0": 0.8,
          "y1": 0.8,
          "yref": "y4"
         },
         {
          "type": "line",
          "x0": 0,
          "x1": 1,
          "xref": "x5 domain",
          "y0": 0.8,
          "y1": 0.8,
          "yref": "y5"
         },
         {
          "type": "line",
          "x0": 0,
          "x1": 1,
          "xref": "x6 domain",
          "y0": 0.8,
          "y1": 0.8,
          "yref": "y6"
         },
         {
          "type": "line",
          "x0": 0,
          "x1": 1,
          "xref": "x7 domain",
          "y0": 0.8,
          "y1": 0.8,
          "yref": "y7"
         },
         {
          "type": "line",
          "x0": 0,
          "x1": 1,
          "xref": "x8 domain",
          "y0": 0.8,
          "y1": 0.8,
          "yref": "y8"
         }
        ],
        "template": {
         "data": {
          "bar": [
           {
            "error_x": {
             "color": "#2a3f5f"
            },
            "error_y": {
             "color": "#2a3f5f"
            },
            "marker": {
             "line": {
              "color": "#E5ECF6",
              "width": 0.5
             },
             "pattern": {
              "fillmode": "overlay",
              "size": 10,
              "solidity": 0.2
             }
            },
            "type": "bar"
           }
          ],
          "barpolar": [
           {
            "marker": {
             "line": {
              "color": "#E5ECF6",
              "width": 0.5
             },
             "pattern": {
              "fillmode": "overlay",
              "size": 10,
              "solidity": 0.2
             }
            },
            "type": "barpolar"
           }
          ],
          "carpet": [
           {
            "aaxis": {
             "endlinecolor": "#2a3f5f",
             "gridcolor": "white",
             "linecolor": "white",
             "minorgridcolor": "white",
             "startlinecolor": "#2a3f5f"
            },
            "baxis": {
             "endlinecolor": "#2a3f5f",
             "gridcolor": "white",
             "linecolor": "white",
             "minorgridcolor": "white",
             "startlinecolor": "#2a3f5f"
            },
            "type": "carpet"
           }
          ],
          "choropleth": [
           {
            "colorbar": {
             "outlinewidth": 0,
             "ticks": ""
            },
            "type": "choropleth"
           }
          ],
          "contour": [
           {
            "colorbar": {
             "outlinewidth": 0,
             "ticks": ""
            },
            "colorscale": [
             [
              0,
              "#0d0887"
             ],
             [
              0.1111111111111111,
              "#46039f"
             ],
             [
              0.2222222222222222,
              "#7201a8"
             ],
             [
              0.3333333333333333,
              "#9c179e"
             ],
             [
              0.4444444444444444,
              "#bd3786"
             ],
             [
              0.5555555555555556,
              "#d8576b"
             ],
             [
              0.6666666666666666,
              "#ed7953"
             ],
             [
              0.7777777777777778,
              "#fb9f3a"
             ],
             [
              0.8888888888888888,
              "#fdca26"
             ],
             [
              1,
              "#f0f921"
             ]
            ],
            "type": "contour"
           }
          ],
          "contourcarpet": [
           {
            "colorbar": {
             "outlinewidth": 0,
             "ticks": ""
            },
            "type": "contourcarpet"
           }
          ],
          "heatmap": [
           {
            "colorbar": {
             "outlinewidth": 0,
             "ticks": ""
            },
            "colorscale": [
             [
              0,
              "#0d0887"
             ],
             [
              0.1111111111111111,
              "#46039f"
             ],
             [
              0.2222222222222222,
              "#7201a8"
             ],
             [
              0.3333333333333333,
              "#9c179e"
             ],
             [
              0.4444444444444444,
              "#bd3786"
             ],
             [
              0.5555555555555556,
              "#d8576b"
             ],
             [
              0.6666666666666666,
              "#ed7953"
             ],
             [
              0.7777777777777778,
              "#fb9f3a"
             ],
             [
              0.8888888888888888,
              "#fdca26"
             ],
             [
              1,
              "#f0f921"
             ]
            ],
            "type": "heatmap"
           }
          ],
          "heatmapgl": [
           {
            "colorbar": {
             "outlinewidth": 0,
             "ticks": ""
            },
            "colorscale": [
             [
              0,
              "#0d0887"
             ],
             [
              0.1111111111111111,
              "#46039f"
             ],
             [
              0.2222222222222222,
              "#7201a8"
             ],
             [
              0.3333333333333333,
              "#9c179e"
             ],
             [
              0.4444444444444444,
              "#bd3786"
             ],
             [
              0.5555555555555556,
              "#d8576b"
             ],
             [
              0.6666666666666666,
              "#ed7953"
             ],
             [
              0.7777777777777778,
              "#fb9f3a"
             ],
             [
              0.8888888888888888,
              "#fdca26"
             ],
             [
              1,
              "#f0f921"
             ]
            ],
            "type": "heatmapgl"
           }
          ],
          "histogram": [
           {
            "marker": {
             "pattern": {
              "fillmode": "overlay",
              "size": 10,
              "solidity": 0.2
             }
            },
            "type": "histogram"
           }
          ],
          "histogram2d": [
           {
            "colorbar": {
             "outlinewidth": 0,
             "ticks": ""
            },
            "colorscale": [
             [
              0,
              "#0d0887"
             ],
             [
              0.1111111111111111,
              "#46039f"
             ],
             [
              0.2222222222222222,
              "#7201a8"
             ],
             [
              0.3333333333333333,
              "#9c179e"
             ],
             [
              0.4444444444444444,
              "#bd3786"
             ],
             [
              0.5555555555555556,
              "#d8576b"
             ],
             [
              0.6666666666666666,
              "#ed7953"
             ],
             [
              0.7777777777777778,
              "#fb9f3a"
             ],
             [
              0.8888888888888888,
              "#fdca26"
             ],
             [
              1,
              "#f0f921"
             ]
            ],
            "type": "histogram2d"
           }
          ],
          "histogram2dcontour": [
           {
            "colorbar": {
             "outlinewidth": 0,
             "ticks": ""
            },
            "colorscale": [
             [
              0,
              "#0d0887"
             ],
             [
              0.1111111111111111,
              "#46039f"
             ],
             [
              0.2222222222222222,
              "#7201a8"
             ],
             [
              0.3333333333333333,
              "#9c179e"
             ],
             [
              0.4444444444444444,
              "#bd3786"
             ],
             [
              0.5555555555555556,
              "#d8576b"
             ],
             [
              0.6666666666666666,
              "#ed7953"
             ],
             [
              0.7777777777777778,
              "#fb9f3a"
             ],
             [
              0.8888888888888888,
              "#fdca26"
             ],
             [
              1,
              "#f0f921"
             ]
            ],
            "type": "histogram2dcontour"
           }
          ],
          "mesh3d": [
           {
            "colorbar": {
             "outlinewidth": 0,
             "ticks": ""
            },
            "type": "mesh3d"
           }
          ],
          "parcoords": [
           {
            "line": {
             "colorbar": {
              "outlinewidth": 0,
              "ticks": ""
             }
            },
            "type": "parcoords"
           }
          ],
          "pie": [
           {
            "automargin": true,
            "type": "pie"
           }
          ],
          "scatter": [
           {
            "fillpattern": {
             "fillmode": "overlay",
             "size": 10,
             "solidity": 0.2
            },
            "type": "scatter"
           }
          ],
          "scatter3d": [
           {
            "line": {
             "colorbar": {
              "outlinewidth": 0,
              "ticks": ""
             }
            },
            "marker": {
             "colorbar": {
              "outlinewidth": 0,
              "ticks": ""
             }
            },
            "type": "scatter3d"
           }
          ],
          "scattercarpet": [
           {
            "marker": {
             "colorbar": {
              "outlinewidth": 0,
              "ticks": ""
             }
            },
            "type": "scattercarpet"
           }
          ],
          "scattergeo": [
           {
            "marker": {
             "colorbar": {
              "outlinewidth": 0,
              "ticks": ""
             }
            },
            "type": "scattergeo"
           }
          ],
          "scattergl": [
           {
            "marker": {
             "colorbar": {
              "outlinewidth": 0,
              "ticks": ""
             }
            },
            "type": "scattergl"
           }
          ],
          "scattermapbox": [
           {
            "marker": {
             "colorbar": {
              "outlinewidth": 0,
              "ticks": ""
             }
            },
            "type": "scattermapbox"
           }
          ],
          "scatterpolar": [
           {
            "marker": {
             "colorbar": {
              "outlinewidth": 0,
              "ticks": ""
             }
            },
            "type": "scatterpolar"
           }
          ],
          "scatterpolargl": [
           {
            "marker": {
             "colorbar": {
              "outlinewidth": 0,
              "ticks": ""
             }
            },
            "type": "scatterpolargl"
           }
          ],
          "scatterternary": [
           {
            "marker": {
             "colorbar": {
              "outlinewidth": 0,
              "ticks": ""
             }
            },
            "type": "scatterternary"
           }
          ],
          "surface": [
           {
            "colorbar": {
             "outlinewidth": 0,
             "ticks": ""
            },
            "colorscale": [
             [
              0,
              "#0d0887"
             ],
             [
              0.1111111111111111,
              "#46039f"
             ],
             [
              0.2222222222222222,
              "#7201a8"
             ],
             [
              0.3333333333333333,
              "#9c179e"
             ],
             [
              0.4444444444444444,
              "#bd3786"
             ],
             [
              0.5555555555555556,
              "#d8576b"
             ],
             [
              0.6666666666666666,
              "#ed7953"
             ],
             [
              0.7777777777777778,
              "#fb9f3a"
             ],
             [
              0.8888888888888888,
              "#fdca26"
             ],
             [
              1,
              "#f0f921"
             ]
            ],
            "type": "surface"
           }
          ],
          "table": [
           {
            "cells": {
             "fill": {
              "color": "#EBF0F8"
             },
             "line": {
              "color": "white"
             }
            },
            "header": {
             "fill": {
              "color": "#C8D4E3"
             },
             "line": {
              "color": "white"
             }
            },
            "type": "table"
           }
          ]
         },
         "layout": {
          "annotationdefaults": {
           "arrowcolor": "#2a3f5f",
           "arrowhead": 0,
           "arrowwidth": 1
          },
          "autotypenumbers": "strict",
          "coloraxis": {
           "colorbar": {
            "outlinewidth": 0,
            "ticks": ""
           }
          },
          "colorscale": {
           "diverging": [
            [
             0,
             "#8e0152"
            ],
            [
             0.1,
             "#c51b7d"
            ],
            [
             0.2,
             "#de77ae"
            ],
            [
             0.3,
             "#f1b6da"
            ],
            [
             0.4,
             "#fde0ef"
            ],
            [
             0.5,
             "#f7f7f7"
            ],
            [
             0.6,
             "#e6f5d0"
            ],
            [
             0.7,
             "#b8e186"
            ],
            [
             0.8,
             "#7fbc41"
            ],
            [
             0.9,
             "#4d9221"
            ],
            [
             1,
             "#276419"
            ]
           ],
           "sequential": [
            [
             0,
             "#0d0887"
            ],
            [
             0.1111111111111111,
             "#46039f"
            ],
            [
             0.2222222222222222,
             "#7201a8"
            ],
            [
             0.3333333333333333,
             "#9c179e"
            ],
            [
             0.4444444444444444,
             "#bd3786"
            ],
            [
             0.5555555555555556,
             "#d8576b"
            ],
            [
             0.6666666666666666,
             "#ed7953"
            ],
            [
             0.7777777777777778,
             "#fb9f3a"
            ],
            [
             0.8888888888888888,
             "#fdca26"
            ],
            [
             1,
             "#f0f921"
            ]
           ],
           "sequentialminus": [
            [
             0,
             "#0d0887"
            ],
            [
             0.1111111111111111,
             "#46039f"
            ],
            [
             0.2222222222222222,
             "#7201a8"
            ],
            [
             0.3333333333333333,
             "#9c179e"
            ],
            [
             0.4444444444444444,
             "#bd3786"
            ],
            [
             0.5555555555555556,
             "#d8576b"
            ],
            [
             0.6666666666666666,
             "#ed7953"
            ],
            [
             0.7777777777777778,
             "#fb9f3a"
            ],
            [
             0.8888888888888888,
             "#fdca26"
            ],
            [
             1,
             "#f0f921"
            ]
           ]
          },
          "colorway": [
           "#636efa",
           "#EF553B",
           "#00cc96",
           "#ab63fa",
           "#FFA15A",
           "#19d3f3",
           "#FF6692",
           "#B6E880",
           "#FF97FF",
           "#FECB52"
          ],
          "font": {
           "color": "#2a3f5f"
          },
          "geo": {
           "bgcolor": "white",
           "lakecolor": "white",
           "landcolor": "#E5ECF6",
           "showlakes": true,
           "showland": true,
           "subunitcolor": "white"
          },
          "hoverlabel": {
           "align": "left"
          },
          "hovermode": "closest",
          "mapbox": {
           "style": "light"
          },
          "paper_bgcolor": "white",
          "plot_bgcolor": "#E5ECF6",
          "polar": {
           "angularaxis": {
            "gridcolor": "white",
            "linecolor": "white",
            "ticks": ""
           },
           "bgcolor": "#E5ECF6",
           "radialaxis": {
            "gridcolor": "white",
            "linecolor": "white",
            "ticks": ""
           }
          },
          "scene": {
           "xaxis": {
            "backgroundcolor": "#E5ECF6",
            "gridcolor": "white",
            "gridwidth": 2,
            "linecolor": "white",
            "showbackground": true,
            "ticks": "",
            "zerolinecolor": "white"
           },
           "yaxis": {
            "backgroundcolor": "#E5ECF6",
            "gridcolor": "white",
            "gridwidth": 2,
            "linecolor": "white",
            "showbackground": true,
            "ticks": "",
            "zerolinecolor": "white"
           },
           "zaxis": {
            "backgroundcolor": "#E5ECF6",
            "gridcolor": "white",
            "gridwidth": 2,
            "linecolor": "white",
            "showbackground": true,
            "ticks": "",
            "zerolinecolor": "white"
           }
          },
          "shapedefaults": {
           "line": {
            "color": "#2a3f5f"
           }
          },
          "ternary": {
           "aaxis": {
            "gridcolor": "white",
            "linecolor": "white",
            "ticks": ""
           },
           "baxis": {
            "gridcolor": "white",
            "linecolor": "white",
            "ticks": ""
           },
           "bgcolor": "#E5ECF6",
           "caxis": {
            "gridcolor": "white",
            "linecolor": "white",
            "ticks": ""
           }
          },
          "title": {
           "x": 0.05
          },
          "xaxis": {
           "automargin": true,
           "gridcolor": "white",
           "linecolor": "white",
           "ticks": "",
           "title": {
            "standoff": 15
           },
           "zerolinecolor": "white",
           "zerolinewidth": 2
          },
          "yaxis": {
           "automargin": true,
           "gridcolor": "white",
           "linecolor": "white",
           "ticks": "",
           "title": {
            "standoff": 15
           },
           "zerolinecolor": "white",
           "zerolinewidth": 2
          }
         }
        },
        "width": 1600,
        "xaxis": {
         "anchor": "y",
         "domain": [
          0,
          0.2275
         ],
         "range": [
          0,
          1
         ],
         "type": "linear"
        },
        "xaxis2": {
         "anchor": "y2",
         "domain": [
          0.2575,
          0.485
         ],
         "range": [
          0,
          1
         ],
         "type": "linear"
        },
        "xaxis3": {
         "anchor": "y3",
         "domain": [
          0.515,
          0.7425
         ],
         "range": [
          0,
          1
         ],
         "type": "linear"
        },
        "xaxis4": {
         "anchor": "y4",
         "domain": [
          0.7725,
          1
         ],
         "range": [
          0,
          1
         ],
         "type": "linear"
        },
        "xaxis5": {
         "anchor": "y5",
         "domain": [
          0,
          0.2275
         ],
         "range": [
          600,
          1200
         ],
         "type": "linear"
        },
        "xaxis6": {
         "anchor": "y6",
         "domain": [
          0.2575,
          0.485
         ],
         "range": [
          600,
          1200
         ],
         "type": "linear"
        },
        "xaxis7": {
         "anchor": "y7",
         "domain": [
          0.515,
          0.7425
         ],
         "range": [
          600,
          1200
         ],
         "type": "linear"
        },
        "xaxis8": {
         "anchor": "y8",
         "domain": [
          0.7725,
          1
         ],
         "range": [
          600,
          1200
         ],
         "type": "linear"
        },
        "yaxis": {
         "anchor": "x",
         "autorange": true,
         "domain": [
          0.575,
          1
         ],
         "range": [
          0.03760830513984372,
          0.9203916948601563
         ],
         "type": "linear"
        },
        "yaxis2": {
         "anchor": "x2",
         "autorange": true,
         "domain": [
          0.575,
          1
         ],
         "matches": "y",
         "range": [
          0.03760830513984372,
          0.9203916948601563
         ],
         "showticklabels": false,
         "type": "linear"
        },
        "yaxis3": {
         "anchor": "x3",
         "autorange": true,
         "domain": [
          0.575,
          1
         ],
         "matches": "y",
         "range": [
          0.03760830513984372,
          0.9203916948601563
         ],
         "showticklabels": false,
         "type": "linear"
        },
        "yaxis4": {
         "anchor": "x4",
         "autorange": true,
         "domain": [
          0.575,
          1
         ],
         "matches": "y",
         "range": [
          0.03760830513984372,
          0.9203916948601563
         ],
         "showticklabels": false,
         "type": "linear"
        },
        "yaxis5": {
         "anchor": "x5",
         "autorange": true,
         "domain": [
          0,
          0.425
         ],
         "range": [
          0.037608305139843715,
          0.9203916948601563
         ],
         "type": "linear"
        },
        "yaxis6": {
         "anchor": "x6",
         "autorange": true,
         "domain": [
          0,
          0.425
         ],
         "matches": "y5",
         "range": [
          0.037608305139843715,
          0.9203916948601563
         ],
         "showticklabels": false,
         "type": "linear"
        },
        "yaxis7": {
         "anchor": "x7",
         "autorange": true,
         "domain": [
          0,
          0.425
         ],
         "matches": "y5",
         "range": [
          0.037608305139843715,
          0.9203916948601563
         ],
         "showticklabels": false,
         "type": "linear"
        },
        "yaxis8": {
         "anchor": "x8",
         "autorange": true,
         "domain": [
          0,
          0.425
         ],
         "matches": "y5",
         "range": [
          0.037608305139843715,
          0.9203916948601563
         ],
         "showticklabels": false,
         "type": "linear"
        }
       }
      },
      "image/png": "[encoded data removed]"
     },
     "metadata": {},
     "output_type": "display_data"
    }
   ],
   "source": [
    "df = pd.read_csv(\"res_sim_gauss_var_numd.csv\")\n",
    "idx2key = {\n",
    "    \"0\": r\"$D = 2$\",\n",
    "    \"1\": r\"$D = 5$\",\n",
    "    \"2\": r\"$D = 10$\",\n",
    "    \"3\": r\"$D = 15$\",\n",
    "}\n",
    "algos = [\"ES\", \"UES\", \"TSS\", \"UCBS\", \"EGS\", \"PSI\", \"A/B\"]\n",
    "key2data = get_key2data(df, idx2key, algos)\n",
    "print(key2data)\n",
    "fig = sd_return_fig(algos, key2data, 0.13, False, [[0.00, 1.00], [600, 1200]], 8, line_add=0.8)\n",
    "fig.add_annotation(dict(\n",
    "    font=dict(size=19),\n",
    "    x=0.4,\n",
    "    y=0.5,\n",
    "    showarrow=False,\n",
    "    text=\"Normalized averaged regrets\",\n",
    "    xanchor=\"left\",\n",
    "    xref=\"paper\",\n",
    "    yref=\"paper\",\n",
    "))\n",
    "fig.add_annotation(dict(\n",
    "    font=dict(size=19),\n",
    "    x=0.4,\n",
    "    y=-0.1,\n",
    "    showarrow=False,\n",
    "    text=\"Averaged sample size per arm\",\n",
    "    xanchor=\"left\",\n",
    "    xref=\"paper\",\n",
    "    yref=\"paper\",\n",
    "))\n",
    "\n",
    "# print(fig.layout)\n",
    "fig.show()\n",
    "plotly.io.write_image(fig, 'sim_gauss_var_numd.pdf', format='pdf')"
   ]
  },
  {
   "cell_type": "code",
   "execution_count": 40,
   "metadata": {},
   "outputs": [
    {
     "data": {
      "text/html": [
       "<div>\n",
       "<style scoped>\n",
       "    .dataframe tbody tr th:only-of-type {\n",
       "        vertical-align: middle;\n",
       "    }\n",
       "\n",
       "    .dataframe tbody tr th {\n",
       "        vertical-align: top;\n",
       "    }\n",
       "\n",
       "    .dataframe thead th {\n",
       "        text-align: right;\n",
       "    }\n",
       "</style>\n",
       "<table border=\"1\" class=\"dataframe\">\n",
       "  <thead>\n",
       "    <tr style=\"text-align: right;\">\n",
       "      <th></th>\n",
       "      <th>ES_0</th>\n",
       "      <th>ES_1</th>\n",
       "      <th>ES_2</th>\n",
       "      <th>UES_0</th>\n",
       "      <th>UES_1</th>\n",
       "      <th>UES_2</th>\n",
       "      <th>TSS_0</th>\n",
       "      <th>TSS_1</th>\n",
       "      <th>TSS_2</th>\n",
       "      <th>UCBS_0</th>\n",
       "      <th>...</th>\n",
       "      <th>UCBS_2</th>\n",
       "      <th>EGS_0</th>\n",
       "      <th>EGS_1</th>\n",
       "      <th>EGS_2</th>\n",
       "      <th>PSI_0</th>\n",
       "      <th>PSI_1</th>\n",
       "      <th>PSI_2</th>\n",
       "      <th>A/B_0</th>\n",
       "      <th>A/B_1</th>\n",
       "      <th>A/B_2</th>\n",
       "    </tr>\n",
       "  </thead>\n",
       "  <tbody>\n",
       "    <tr>\n",
       "      <th>0</th>\n",
       "      <td>0.655</td>\n",
       "      <td>720.661</td>\n",
       "      <td>0.0125</td>\n",
       "      <td>0.587</td>\n",
       "      <td>771.055</td>\n",
       "      <td>0.1102</td>\n",
       "      <td>0.619</td>\n",
       "      <td>766.182</td>\n",
       "      <td>0.0248</td>\n",
       "      <td>0.632</td>\n",
       "      <td>...</td>\n",
       "      <td>0.0374</td>\n",
       "      <td>0.607</td>\n",
       "      <td>789.901</td>\n",
       "      <td>0.0134</td>\n",
       "      <td>0.483</td>\n",
       "      <td>743.445</td>\n",
       "      <td>0.0109</td>\n",
       "      <td>0.378</td>\n",
       "      <td>1000</td>\n",
       "      <td>0.1251</td>\n",
       "    </tr>\n",
       "    <tr>\n",
       "      <th>1</th>\n",
       "      <td>0.858</td>\n",
       "      <td>622.204</td>\n",
       "      <td>0.0124</td>\n",
       "      <td>0.832</td>\n",
       "      <td>630.529</td>\n",
       "      <td>0.0529</td>\n",
       "      <td>0.778</td>\n",
       "      <td>705.781</td>\n",
       "      <td>0.0139</td>\n",
       "      <td>0.845</td>\n",
       "      <td>...</td>\n",
       "      <td>0.0253</td>\n",
       "      <td>0.711</td>\n",
       "      <td>707.540</td>\n",
       "      <td>0.0091</td>\n",
       "      <td>0.525</td>\n",
       "      <td>731.802</td>\n",
       "      <td>0.0180</td>\n",
       "      <td>0.441</td>\n",
       "      <td>1000</td>\n",
       "      <td>0.0702</td>\n",
       "    </tr>\n",
       "    <tr>\n",
       "      <th>2</th>\n",
       "      <td>0.824</td>\n",
       "      <td>752.246</td>\n",
       "      <td>0.0091</td>\n",
       "      <td>0.783</td>\n",
       "      <td>787.181</td>\n",
       "      <td>0.0319</td>\n",
       "      <td>0.651</td>\n",
       "      <td>902.869</td>\n",
       "      <td>0.0093</td>\n",
       "      <td>0.805</td>\n",
       "      <td>...</td>\n",
       "      <td>0.0132</td>\n",
       "      <td>0.562</td>\n",
       "      <td>893.590</td>\n",
       "      <td>0.0064</td>\n",
       "      <td>0.314</td>\n",
       "      <td>945.249</td>\n",
       "      <td>0.0183</td>\n",
       "      <td>0.220</td>\n",
       "      <td>1000</td>\n",
       "      <td>0.0424</td>\n",
       "    </tr>\n",
       "    <tr>\n",
       "      <th>3</th>\n",
       "      <td>0.730</td>\n",
       "      <td>929.621</td>\n",
       "      <td>0.0071</td>\n",
       "      <td>0.665</td>\n",
       "      <td>966.015</td>\n",
       "      <td>0.0257</td>\n",
       "      <td>0.515</td>\n",
       "      <td>1100.518</td>\n",
       "      <td>0.0077</td>\n",
       "      <td>0.696</td>\n",
       "      <td>...</td>\n",
       "      <td>0.0098</td>\n",
       "      <td>0.423</td>\n",
       "      <td>1114.251</td>\n",
       "      <td>0.0051</td>\n",
       "      <td>0.160</td>\n",
       "      <td>1183.833</td>\n",
       "      <td>0.0169</td>\n",
       "      <td>0.100</td>\n",
       "      <td>1000</td>\n",
       "      <td>0.0317</td>\n",
       "    </tr>\n",
       "  </tbody>\n",
       "</table>\n",
       "<p>4 rows × 21 columns</p>\n",
       "</div>"
      ],
      "text/plain": [
       "    ES_0     ES_1    ES_2  UES_0    UES_1   UES_2  TSS_0     TSS_1   TSS_2  \\\n",
       "0  0.655  720.661  0.0125  0.587  771.055  0.1102  0.619   766.182  0.0248   \n",
       "1  0.858  622.204  0.0124  0.832  630.529  0.0529  0.778   705.781  0.0139   \n",
       "2  0.824  752.246  0.0091  0.783  787.181  0.0319  0.651   902.869  0.0093   \n",
       "3  0.730  929.621  0.0071  0.665  966.015  0.0257  0.515  1100.518  0.0077   \n",
       "\n",
       "   UCBS_0  ...  UCBS_2  EGS_0     EGS_1   EGS_2  PSI_0     PSI_1   PSI_2  \\\n",
       "0   0.632  ...  0.0374  0.607   789.901  0.0134  0.483   743.445  0.0109   \n",
       "1   0.845  ...  0.0253  0.711   707.540  0.0091  0.525   731.802  0.0180   \n",
       "2   0.805  ...  0.0132  0.562   893.590  0.0064  0.314   945.249  0.0183   \n",
       "3   0.696  ...  0.0098  0.423  1114.251  0.0051  0.160  1183.833  0.0169   \n",
       "\n",
       "   A/B_0  A/B_1   A/B_2  \n",
       "0  0.378   1000  0.1251  \n",
       "1  0.441   1000  0.0702  \n",
       "2  0.220   1000  0.0424  \n",
       "3  0.100   1000  0.0317  \n",
       "\n",
       "[4 rows x 21 columns]"
      ]
     },
     "execution_count": 40,
     "metadata": {},
     "output_type": "execute_result"
    }
   ],
   "source": [
    "df = pd.read_csv('res_sim_gauss_var_numd.csv')\n",
    "df"
   ]
  },
  {
   "cell_type": "code",
   "execution_count": 41,
   "metadata": {},
   "outputs": [
    {
     "name": "stdout",
     "output_type": "stream",
     "text": [
      "{'$K = 5$': {'ES': {'power': 0.863, 'samples': 608.954, 'regret': 0.0129}, 'UES': {'power': 0.824, 'samples': 655.928, 'regret': 0.0563}, 'TSS': {'power': 0.776, 'samples': 696.82, 'regret': 0.0143}, 'UCBS': {'power': 0.846, 'samples': 667.559, 'regret': 0.0257}, 'EGS': {'power': 0.724, 'samples': 708.747, 'regret': 0.0091}, 'PSI': {'power': 0.553, 'samples': 742.206, 'regret': 0.0187}, 'A/B': {'power': 0.45, 'samples': 1000.0, 'regret': 0.0702}}, '$K = 10$': {'ES': {'power': 0.888, 'samples': 612.805, 'regret': 0.0293}, 'UES': {'power': 0.766, 'samples': 733.449, 'regret': 0.1367}, 'TSS': {'power': 0.716, 'samples': 718.846, 'regret': 0.0343}, 'UCBS': {'power': 0.867, 'samples': 702.153, 'regret': 0.0609}, 'EGS': {'power': 0.656, 'samples': 799.797, 'regret': 0.0215}, 'PSI': {'power': 0.628, 'samples': 634.366, 'regret': 0.0325}, 'A/B': {'power': 0.403, 'samples': 1000.0, 'regret': 0.168}}, '$K = 15$': {'ES': {'power': 0.907, 'samples': 599.889, 'regret': 0.0386}, 'UES': {'power': 0.733, 'samples': 749.091, 'regret': 0.1654}, 'TSS': {'power': 0.718, 'samples': 791.876, 'regret': 0.0415}, 'UCBS': {'power': 0.885, 'samples': 735.706, 'regret': 0.0793}, 'EGS': {'power': 0.62, 'samples': 884.516, 'regret': 0.0266}, 'PSI': {'power': 0.685, 'samples': 639.318, 'regret': 0.0402}, 'A/B': {'power': 0.384, 'samples': 1000.0, 'regret': 0.1984}}, '$K = 20$': {'ES': {'power': 0.922, 'samples': 583.261, 'regret': 0.0455}, 'UES': {'power': 0.712, 'samples': 798.829, 'regret': 0.1805}, 'TSS': {'power': 0.696, 'samples': 813.649, 'regret': 0.0456}, 'UCBS': {'power': 0.892, 'samples': 739.499, 'regret': 0.0933}, 'EGS': {'power': 0.583, 'samples': 963.636, 'regret': 0.0288}, 'PSI': {'power': 0.683, 'samples': 609.155, 'regret': 0.0439}, 'A/B': {'power': 0.353, 'samples': 1000.0, 'regret': 0.2159}}}\n"
     ]
    },
    {
     "data": {
      "application/vnd.plotly.v1+json": {
       "config": {
        "plotlyServerURL": "https://plot.ly"
       },
       "data": [
        {
         "legendgroup": "ES",
         "marker": {
          "color": [
           "red"
          ],
          "size": 8,
          "symbol": [
           "square"
          ]
         },
         "mode": "markers",
         "name": "ES",
         "orientation": "h",
         "showlegend": true,
         "type": "scatter",
         "x": [
          0.05863636363636364
         ],
         "xaxis": "x",
         "y": [
          0.863
         ],
         "yaxis": "y"
        },
        {
         "legendgroup": "ES",
         "marker": {
          "color": [
           "red"
          ],
          "size": 8,
          "symbol": [
           "square"
          ]
         },
         "mode": "markers",
         "name": "ES",
         "orientation": "h",
         "showlegend": false,
         "type": "scatter",
         "x": [
          608.954
         ],
         "xaxis": "x5",
         "y": [
          0.863
         ],
         "yaxis": "y5"
        },
        {
         "legendgroup": "UES",
         "marker": {
          "color": [
           "yellowgreen"
          ],
          "size": 8,
          "symbol": [
           "star"
          ]
         },
         "mode": "markers",
         "name": "UES",
         "orientation": "h",
         "showlegend": true,
         "type": "scatter",
         "x": [
          0.2559090909090909
         ],
         "xaxis": "x",
         "y": [
          0.824
         ],
         "yaxis": "y"
        },
        {
         "legendgroup": "UES",
         "marker": {
          "color": [
           "yellowgreen"
          ],
          "size": 8,
          "symbol": [
           "star"
          ]
         },
         "mode": "markers",
         "name": "UES",
         "orientation": "h",
         "showlegend": false,
         "type": "scatter",
         "x": [
          655.928
         ],
         "xaxis": "x5",
         "y": [
          0.824
         ],
         "yaxis": "y5"
        },
        {
         "legendgroup": "TSS",
         "marker": {
          "color": [
           "blueviolet"
          ],
          "size": 8,
          "symbol": [
           "triangle-up"
          ]
         },
         "mode": "markers",
         "name": "TSS",
         "orientation": "h",
         "showlegend": true,
         "type": "scatter",
         "x": [
          0.065
         ],
         "xaxis": "x",
         "y": [
          0.776
         ],
         "yaxis": "y"
        },
        {
         "legendgroup": "TSS",
         "marker": {
          "color": [
           "blueviolet"
          ],
          "size": 8,
          "symbol": [
           "triangle-up"
          ]
         },
         "mode": "markers",
         "name": "TSS",
         "orientation": "h",
         "showlegend": false,
         "type": "scatter",
         "x": [
          696.82
         ],
         "xaxis": "x5",
         "y": [
          0.776
         ],
         "yaxis": "y5"
        },
        {
         "legendgroup": "UCBS",
         "marker": {
          "color": [
           "maroon"
          ],
          "size": 8,
          "symbol": [
           "x"
          ]
         },
         "mode": "markers",
         "name": "UCBS",
         "orientation": "h",
         "showlegend": true,
         "type": "scatter",
         "x": [
          0.11681818181818182
         ],
         "xaxis": "x",
         "y": [
          0.846
         ],
         "yaxis": "y"
        },
        {
         "legendgroup": "UCBS",
         "marker": {
          "color": [
           "maroon"
          ],
          "size": 8,
          "symbol": [
           "x"
          ]
         },
         "mode": "markers",
         "name": "UCBS",
         "orientation": "h",
         "showlegend": false,
         "type": "scatter",
         "x": [
          667.559
         ],
         "xaxis": "x5",
         "y": [
          0.846
         ],
         "yaxis": "y5"
        },
        {
         "legendgroup": "EGS",
         "marker": {
          "color": [
           "darkgray"
          ],
          "size": 8,
          "symbol": [
           "diamond"
          ]
         },
         "mode": "markers",
         "name": "EGS",
         "orientation": "h",
         "showlegend": true,
         "type": "scatter",
         "x": [
          0.041363636363636366
         ],
         "xaxis": "x",
         "y": [
          0.724
         ],
         "yaxis": "y"
        },
        {
         "legendgroup": "EGS",
         "marker": {
          "color": [
           "darkgray"
          ],
          "size": 8,
          "symbol": [
           "diamond"
          ]
         },
         "mode": "markers",
         "name": "EGS",
         "orientation": "h",
         "showlegend": false,
         "type": "scatter",
         "x": [
          708.747
         ],
         "xaxis": "x5",
         "y": [
          0.724
         ],
         "yaxis": "y5"
        },
        {
         "legendgroup": "PSI",
         "marker": {
          "color": [
           "black"
          ],
          "size": 8,
          "symbol": [
           "pentagon"
          ]
         },
         "mode": "markers",
         "name": "PSI",
         "orientation": "h",
         "showlegend": true,
         "type": "scatter",
         "x": [
          0.085
         ],
         "xaxis": "x",
         "y": [
          0.553
         ],
         "yaxis": "y"
        },
        {
         "legendgroup": "PSI",
         "marker": {
          "color": [
           "black"
          ],
          "size": 8,
          "symbol": [
           "pentagon"
          ]
         },
         "mode": "markers",
         "name": "PSI",
         "orientation": "h",
         "showlegend": false,
         "type": "scatter",
         "x": [
          742.206
         ],
         "xaxis": "x5",
         "y": [
          0.553
         ],
         "yaxis": "y5"
        },
        {
         "legendgroup": "A/B",
         "marker": {
          "color": [
           "lime"
          ],
          "size": 8,
          "symbol": [
           "circle"
          ]
         },
         "mode": "markers",
         "name": "A/B",
         "orientation": "h",
         "showlegend": true,
         "type": "scatter",
         "x": [
          0.3190909090909091
         ],
         "xaxis": "x",
         "y": [
          0.45
         ],
         "yaxis": "y"
        },
        {
         "legendgroup": "A/B",
         "marker": {
          "color": [
           "lime"
          ],
          "size": 8,
          "symbol": [
           "circle"
          ]
         },
         "mode": "markers",
         "name": "A/B",
         "orientation": "h",
         "showlegend": false,
         "type": "scatter",
         "x": [
          1000
         ],
         "xaxis": "x5",
         "y": [
          0.45
         ],
         "yaxis": "y5"
        },
        {
         "legendgroup": "ES",
         "marker": {
          "color": [
           "red"
          ],
          "size": 8,
          "symbol": [
           "square"
          ]
         },
         "mode": "markers",
         "name": "ES",
         "orientation": "h",
         "showlegend": false,
         "type": "scatter",
         "x": [
          0.13318181818181818
         ],
         "xaxis": "x2",
         "y": [
          0.888
         ],
         "yaxis": "y2"
        },
        {
         "legendgroup": "ES",
         "marker": {
          "color": [
           "red"
          ],
          "size": 8,
          "symbol": [
           "square"
          ]
         },
         "mode": "markers",
         "name": "ES",
         "orientation": "h",
         "showlegend": false,
         "type": "scatter",
         "x": [
          612.805
         ],
         "xaxis": "x6",
         "y": [
          0.888
         ],
         "yaxis": "y6"
        },
        {
         "legendgroup": "UES",
         "marker": {
          "color": [
           "yellowgreen"
          ],
          "size": 8,
          "symbol": [
           "star"
          ]
         },
         "mode": "markers",
         "name": "UES",
         "orientation": "h",
         "showlegend": false,
         "type": "scatter",
         "x": [
          0.6213636363636363
         ],
         "xaxis": "x2",
         "y": [
          0.766
         ],
         "yaxis": "y2"
        },
        {
         "legendgroup": "UES",
         "marker": {
          "color": [
           "yellowgreen"
          ],
          "size": 8,
          "symbol": [
           "star"
          ]
         },
         "mode": "markers",
         "name": "UES",
         "orientation": "h",
         "showlegend": false,
         "type": "scatter",
         "x": [
          733.449
         ],
         "xaxis": "x6",
         "y": [
          0.766
         ],
         "yaxis": "y6"
        },
        {
         "legendgroup": "TSS",
         "marker": {
          "color": [
           "blueviolet"
          ],
          "size": 8,
          "symbol": [
           "triangle-up"
          ]
         },
         "mode": "markers",
         "name": "TSS",
         "orientation": "h",
         "showlegend": false,
         "type": "scatter",
         "x": [
          0.15590909090909089
         ],
         "xaxis": "x2",
         "y": [
          0.716
         ],
         "yaxis": "y2"
        },
        {
         "legendgroup": "TSS",
         "marker": {
          "color": [
           "blueviolet"
          ],
          "size": 8,
          "symbol": [
           "triangle-up"
          ]
         },
         "mode": "markers",
         "name": "TSS",
         "orientation": "h",
         "showlegend": false,
         "type": "scatter",
         "x": [
          718.846
         ],
         "xaxis": "x6",
         "y": [
          0.716
         ],
         "yaxis": "y6"
        },
        {
         "legendgroup": "UCBS",
         "marker": {
          "color": [
           "maroon"
          ],
          "size": 8,
          "symbol": [
           "x"
          ]
         },
         "mode": "markers",
         "name": "UCBS",
         "orientation": "h",
         "showlegend": false,
         "type": "scatter",
         "x": [
          0.27681818181818185
         ],
         "xaxis": "x2",
         "y": [
          0.867
         ],
         "yaxis": "y2"
        },
        {
         "legendgroup": "UCBS",
         "marker": {
          "color": [
           "maroon"
          ],
          "size": 8,
          "symbol": [
           "x"
          ]
         },
         "mode": "markers",
         "name": "UCBS",
         "orientation": "h",
         "showlegend": false,
         "type": "scatter",
         "x": [
          702.153
         ],
         "xaxis": "x6",
         "y": [
          0.867
         ],
         "yaxis": "y6"
        },
        {
         "legendgroup": "EGS",
         "marker": {
          "color": [
           "darkgray"
          ],
          "size": 8,
          "symbol": [
           "diamond"
          ]
         },
         "mode": "markers",
         "name": "EGS",
         "orientation": "h",
         "showlegend": false,
         "type": "scatter",
         "x": [
          0.09772727272727272
         ],
         "xaxis": "x2",
         "y": [
          0.656
         ],
         "yaxis": "y2"
        },
        {
         "legendgroup": "EGS",
         "marker": {
          "color": [
           "darkgray"
          ],
          "size": 8,
          "symbol": [
           "diamond"
          ]
         },
         "mode": "markers",
         "name": "EGS",
         "orientation": "h",
         "showlegend": false,
         "type": "scatter",
         "x": [
          799.797
         ],
         "xaxis": "x6",
         "y": [
          0.656
         ],
         "yaxis": "y6"
        },
        {
         "legendgroup": "PSI",
         "marker": {
          "color": [
           "black"
          ],
          "size": 8,
          "symbol": [
           "pentagon"
          ]
         },
         "mode": "markers",
         "name": "PSI",
         "orientation": "h",
         "showlegend": false,
         "type": "scatter",
         "x": [
          0.14772727272727273
         ],
         "xaxis": "x2",
         "y": [
          0.628
         ],
         "yaxis": "y2"
        },
        {
         "legendgroup": "PSI",
         "marker": {
          "color": [
           "black"
          ],
          "size": 8,
          "symbol": [
           "pentagon"
          ]
         },
         "mode": "markers",
         "name": "PSI",
         "orientation": "h",
         "showlegend": false,
         "type": "scatter",
         "x": [
          634.366
         ],
         "xaxis": "x6",
         "y": [
          0.628
         ],
         "yaxis": "y6"
        },
        {
         "legendgroup": "A/B",
         "marker": {
          "color": [
           "lime"
          ],
          "size": 8,
          "symbol": [
           "circle"
          ]
         },
         "mode": "markers",
         "name": "A/B",
         "orientation": "h",
         "showlegend": false,
         "type": "scatter",
         "x": [
          0.7636363636363637
         ],
         "xaxis": "x2",
         "y": [
          0.403
         ],
         "yaxis": "y2"
        },
        {
         "legendgroup": "A/B",
         "marker": {
          "color": [
           "lime"
          ],
          "size": 8,
          "symbol": [
           "circle"
          ]
         },
         "mode": "markers",
         "name": "A/B",
         "orientation": "h",
         "showlegend": false,
         "type": "scatter",
         "x": [
          1000
         ],
         "xaxis": "x6",
         "y": [
          0.403
         ],
         "yaxis": "y6"
        },
        {
         "legendgroup": "ES",
         "marker": {
          "color": [
           "red"
          ],
          "size": 8,
          "symbol": [
           "square"
          ]
         },
         "mode": "markers",
         "name": "ES",
         "orientation": "h",
         "showlegend": false,
         "type": "scatter",
         "x": [
          0.17545454545454547
         ],
         "xaxis": "x3",
         "y": [
          0.907
         ],
         "yaxis": "y3"
        },
        {
         "legendgroup": "ES",
         "marker": {
          "color": [
           "red"
          ],
          "size": 8,
          "symbol": [
           "square"
          ]
         },
         "mode": "markers",
         "name": "ES",
         "orientation": "h",
         "showlegend": false,
         "type": "scatter",
         "x": [
          599.889
         ],
         "xaxis": "x7",
         "y": [
          0.907
         ],
         "yaxis": "y7"
        },
        {
         "legendgroup": "UES",
         "marker": {
          "color": [
           "yellowgreen"
          ],
          "size": 8,
          "symbol": [
           "star"
          ]
         },
         "mode": "markers",
         "name": "UES",
         "orientation": "h",
         "showlegend": false,
         "type": "scatter",
         "x": [
          0.7518181818181818
         ],
         "xaxis": "x3",
         "y": [
          0.733
         ],
         "yaxis": "y3"
        },
        {
         "legendgroup": "UES",
         "marker": {
          "color": [
           "yellowgreen"
          ],
          "size": 8,
          "symbol": [
           "star"
          ]
         },
         "mode": "markers",
         "name": "UES",
         "orientation": "h",
         "showlegend": false,
         "type": "scatter",
         "x": [
          749.091
         ],
         "xaxis": "x7",
         "y": [
          0.733
         ],
         "yaxis": "y7"
        },
        {
         "legendgroup": "TSS",
         "marker": {
          "color": [
           "blueviolet"
          ],
          "size": 8,
          "symbol": [
           "triangle-up"
          ]
         },
         "mode": "markers",
         "name": "TSS",
         "orientation": "h",
         "showlegend": false,
         "type": "scatter",
         "x": [
          0.18863636363636366
         ],
         "xaxis": "x3",
         "y": [
          0.718
         ],
         "yaxis": "y3"
        },
        {
         "legendgroup": "TSS",
         "marker": {
          "color": [
           "blueviolet"
          ],
          "size": 8,
          "symbol": [
           "triangle-up"
          ]
         },
         "mode": "markers",
         "name": "TSS",
         "orientation": "h",
         "showlegend": false,
         "type": "scatter",
         "x": [
          791.876
         ],
         "xaxis": "x7",
         "y": [
          0.718
         ],
         "yaxis": "y7"
        },
        {
         "legendgroup": "UCBS",
         "marker": {
          "color": [
           "maroon"
          ],
          "size": 8,
          "symbol": [
           "x"
          ]
         },
         "mode": "markers",
         "name": "UCBS",
         "orientation": "h",
         "showlegend": false,
         "type": "scatter",
         "x": [
          0.3604545454545454
         ],
         "xaxis": "x3",
         "y": [
          0.885
         ],
         "yaxis": "y3"
        },
        {
         "legendgroup": "UCBS",
         "marker": {
          "color": [
           "maroon"
          ],
          "size": 8,
          "symbol": [
           "x"
          ]
         },
         "mode": "markers",
         "name": "UCBS",
         "orientation": "h",
         "showlegend": false,
         "type": "scatter",
         "x": [
          735.706
         ],
         "xaxis": "x7",
         "y": [
          0.885
         ],
         "yaxis": "y7"
        },
        {
         "legendgroup": "EGS",
         "marker": {
          "color": [
           "darkgray"
          ],
          "size": 8,
          "symbol": [
           "diamond"
          ]
         },
         "mode": "markers",
         "name": "EGS",
         "orientation": "h",
         "showlegend": false,
         "type": "scatter",
         "x": [
          0.1209090909090909
         ],
         "xaxis": "x3",
         "y": [
          0.62
         ],
         "yaxis": "y3"
        },
        {
         "legendgroup": "EGS",
         "marker": {
          "color": [
           "darkgray"
          ],
          "size": 8,
          "symbol": [
           "diamond"
          ]
         },
         "mode": "markers",
         "name": "EGS",
         "orientation": "h",
         "showlegend": false,
         "type": "scatter",
         "x": [
          884.516
         ],
         "xaxis": "x7",
         "y": [
          0.62
         ],
         "yaxis": "y7"
        },
        {
         "legendgroup": "PSI",
         "marker": {
          "color": [
           "black"
          ],
          "size": 8,
          "symbol": [
           "pentagon"
          ]
         },
         "mode": "markers",
         "name": "PSI",
         "orientation": "h",
         "showlegend": false,
         "type": "scatter",
         "x": [
          0.18272727272727274
         ],
         "xaxis": "x3",
         "y": [
          0.685
         ],
         "yaxis": "y3"
        },
        {
         "legendgroup": "PSI",
         "marker": {
          "color": [
           "black"
          ],
          "size": 8,
          "symbol": [
           "pentagon"
          ]
         },
         "mode": "markers",
         "name": "PSI",
         "orientation": "h",
         "showlegend": false,
         "type": "scatter",
         "x": [
          639.318
         ],
         "xaxis": "x7",
         "y": [
          0.685
         ],
         "yaxis": "y7"
        },
        {
         "legendgroup": "A/B",
         "marker": {
          "color": [
           "lime"
          ],
          "size": 8,
          "symbol": [
           "circle"
          ]
         },
         "mode": "markers",
         "name": "A/B",
         "orientation": "h",
         "showlegend": false,
         "type": "scatter",
         "x": [
          0.9018181818181817
         ],
         "xaxis": "x3",
         "y": [
          0.384
         ],
         "yaxis": "y3"
        },
        {
         "legendgroup": "A/B",
         "marker": {
          "color": [
           "lime"
          ],
          "size": 8,
          "symbol": [
           "circle"
          ]
         },
         "mode": "markers",
         "name": "A/B",
         "orientation": "h",
         "showlegend": false,
         "type": "scatter",
         "x": [
          1000
         ],
         "xaxis": "x7",
         "y": [
          0.384
         ],
         "yaxis": "y7"
        },
        {
         "legendgroup": "ES",
         "marker": {
          "color": [
           "red"
          ],
          "size": 8,
          "symbol": [
           "square"
          ]
         },
         "mode": "markers",
         "name": "ES",
         "orientation": "h",
         "showlegend": false,
         "type": "scatter",
         "x": [
          0.20681818181818182
         ],
         "xaxis": "x4",
         "y": [
          0.922
         ],
         "yaxis": "y4"
        },
        {
         "legendgroup": "ES",
         "marker": {
          "color": [
           "red"
          ],
          "size": 8,
          "symbol": [
           "square"
          ]
         },
         "mode": "markers",
         "name": "ES",
         "orientation": "h",
         "showlegend": false,
         "type": "scatter",
         "x": [
          583.261
         ],
         "xaxis": "x8",
         "y": [
          0.922
         ],
         "yaxis": "y8"
        },
        {
         "legendgroup": "UES",
         "marker": {
          "color": [
           "yellowgreen"
          ],
          "size": 8,
          "symbol": [
           "star"
          ]
         },
         "mode": "markers",
         "name": "UES",
         "orientation": "h",
         "showlegend": false,
         "type": "scatter",
         "x": [
          0.8204545454545454
         ],
         "xaxis": "x4",
         "y": [
          0.712
         ],
         "yaxis": "y4"
        },
        {
         "legendgroup": "UES",
         "marker": {
          "color": [
           "yellowgreen"
          ],
          "size": 8,
          "symbol": [
           "star"
          ]
         },
         "mode": "markers",
         "name": "UES",
         "orientation": "h",
         "showlegend": false,
         "type": "scatter",
         "x": [
          798.829
         ],
         "xaxis": "x8",
         "y": [
          0.712
         ],
         "yaxis": "y8"
        },
        {
         "legendgroup": "TSS",
         "marker": {
          "color": [
           "blueviolet"
          ],
          "size": 8,
          "symbol": [
           "triangle-up"
          ]
         },
         "mode": "markers",
         "name": "TSS",
         "orientation": "h",
         "showlegend": false,
         "type": "scatter",
         "x": [
          0.20727272727272728
         ],
         "xaxis": "x4",
         "y": [
          0.696
         ],
         "yaxis": "y4"
        },
        {
         "legendgroup": "TSS",
         "marker": {
          "color": [
           "blueviolet"
          ],
          "size": 8,
          "symbol": [
           "triangle-up"
          ]
         },
         "mode": "markers",
         "name": "TSS",
         "orientation": "h",
         "showlegend": false,
         "type": "scatter",
         "x": [
          813.649
         ],
         "xaxis": "x8",
         "y": [
          0.696
         ],
         "yaxis": "y8"
        },
        {
         "legendgroup": "UCBS",
         "marker": {
          "color": [
           "maroon"
          ],
          "size": 8,
          "symbol": [
           "x"
          ]
         },
         "mode": "markers",
         "name": "UCBS",
         "orientation": "h",
         "showlegend": false,
         "type": "scatter",
         "x": [
          0.4240909090909091
         ],
         "xaxis": "x4",
         "y": [
          0.892
         ],
         "yaxis": "y4"
        },
        {
         "legendgroup": "UCBS",
         "marker": {
          "color": [
           "maroon"
          ],
          "size": 8,
          "symbol": [
           "x"
          ]
         },
         "mode": "markers",
         "name": "UCBS",
         "orientation": "h",
         "showlegend": false,
         "type": "scatter",
         "x": [
          739.499
         ],
         "xaxis": "x8",
         "y": [
          0.892
         ],
         "yaxis": "y8"
        },
        {
         "legendgroup": "EGS",
         "marker": {
          "color": [
           "darkgray"
          ],
          "size": 8,
          "symbol": [
           "diamond"
          ]
         },
         "mode": "markers",
         "name": "EGS",
         "orientation": "h",
         "showlegend": false,
         "type": "scatter",
         "x": [
          0.1309090909090909
         ],
         "xaxis": "x4",
         "y": [
          0.583
         ],
         "yaxis": "y4"
        },
        {
         "legendgroup": "EGS",
         "marker": {
          "color": [
           "darkgray"
          ],
          "size": 8,
          "symbol": [
           "diamond"
          ]
         },
         "mode": "markers",
         "name": "EGS",
         "orientation": "h",
         "showlegend": false,
         "type": "scatter",
         "x": [
          963.636
         ],
         "xaxis": "x8",
         "y": [
          0.583
         ],
         "yaxis": "y8"
        },
        {
         "legendgroup": "PSI",
         "marker": {
          "color": [
           "black"
          ],
          "size": 8,
          "symbol": [
           "pentagon"
          ]
         },
         "mode": "markers",
         "name": "PSI",
         "orientation": "h",
         "showlegend": false,
         "type": "scatter",
         "x": [
          0.19954545454545455
         ],
         "xaxis": "x4",
         "y": [
          0.683
         ],
         "yaxis": "y4"
        },
        {
         "legendgroup": "PSI",
         "marker": {
          "color": [
           "black"
          ],
          "size": 8,
          "symbol": [
           "pentagon"
          ]
         },
         "mode": "markers",
         "name": "PSI",
         "orientation": "h",
         "showlegend": false,
         "type": "scatter",
         "x": [
          609.155
         ],
         "xaxis": "x8",
         "y": [
          0.683
         ],
         "yaxis": "y8"
        },
        {
         "legendgroup": "A/B",
         "marker": {
          "color": [
           "lime"
          ],
          "size": 8,
          "symbol": [
           "circle"
          ]
         },
         "mode": "markers",
         "name": "A/B",
         "orientation": "h",
         "showlegend": false,
         "type": "scatter",
         "x": [
          0.9813636363636364
         ],
         "xaxis": "x4",
         "y": [
          0.353
         ],
         "yaxis": "y4"
        },
        {
         "legendgroup": "A/B",
         "marker": {
          "color": [
           "lime"
          ],
          "size": 8,
          "symbol": [
           "circle"
          ]
         },
         "mode": "markers",
         "name": "A/B",
         "orientation": "h",
         "showlegend": false,
         "type": "scatter",
         "x": [
          1000
         ],
         "xaxis": "x8",
         "y": [
          0.353
         ],
         "yaxis": "y8"
        }
       ],
       "layout": {
        "annotations": [
         {
          "font": {
           "size": 20
          },
          "showarrow": false,
          "text": "$K = 5$",
          "x": 0.11375,
          "xanchor": "center",
          "xref": "paper",
          "y": 1,
          "yanchor": "bottom",
          "yref": "paper"
         },
         {
          "font": {
           "size": 20
          },
          "showarrow": false,
          "text": "$K = 10$",
          "x": 0.37124999999999997,
          "xanchor": "center",
          "xref": "paper",
          "y": 1,
          "yanchor": "bottom",
          "yref": "paper"
         },
         {
          "font": {
           "size": 20
          },
          "showarrow": false,
          "text": "$K = 15$",
          "x": 0.62875,
          "xanchor": "center",
          "xref": "paper",
          "y": 1,
          "yanchor": "bottom",
          "yref": "paper"
         },
         {
          "font": {
           "size": 20
          },
          "showarrow": false,
          "text": "$K = 20$",
          "x": 0.88625,
          "xanchor": "center",
          "xref": "paper",
          "y": 1,
          "yanchor": "bottom",
          "yref": "paper"
         },
         {
          "font": {
           "size": 20
          },
          "showarrow": false,
          "text": "Power",
          "textangle": -90,
          "x": 0,
          "xanchor": "right",
          "xref": "paper",
          "xshift": -40,
          "y": 0.5,
          "yanchor": "middle",
          "yref": "paper"
         },
         {
          "font": {
           "size": 19
          },
          "showarrow": false,
          "text": "Normalized averaged regrets",
          "x": 0.4,
          "xanchor": "left",
          "xref": "paper",
          "y": 0.5,
          "yref": "paper"
         },
         {
          "font": {
           "size": 19
          },
          "showarrow": false,
          "text": "Averaged sample size per arm",
          "x": 0.4,
          "xanchor": "left",
          "xref": "paper",
          "y": -0.1,
          "yref": "paper"
         }
        ],
        "font": {
         "size": 16
        },
        "height": 800,
        "legend": {
         "orientation": "h",
         "x": 0.33,
         "y": -0.15
        },
        "plot_bgcolor": "rgb(242,242,242)",
        "shapes": [
         {
          "type": "line",
          "x0": 0,
          "x1": 1,
          "xref": "x domain",
          "y0": 0.9,
          "y1": 0.9,
          "yref": "y"
         },
         {
          "type": "line",
          "x0": 0,
          "x1": 1,
          "xref": "x2 domain",
          "y0": 0.9,
          "y1": 0.9,
          "yref": "y2"
         },
         {
          "type": "line",
          "x0": 0,
          "x1": 1,
          "xref": "x3 domain",
          "y0": 0.9,
          "y1": 0.9,
          "yref": "y3"
         },
         {
          "type": "line",
          "x0": 0,
          "x1": 1,
          "xref": "x4 domain",
          "y0": 0.9,
          "y1": 0.9,
          "yref": "y4"
         },
         {
          "type": "line",
          "x0": 0,
          "x1": 1,
          "xref": "x5 domain",
          "y0": 0.9,
          "y1": 0.9,
          "yref": "y5"
         },
         {
          "type": "line",
          "x0": 0,
          "x1": 1,
          "xref": "x6 domain",
          "y0": 0.9,
          "y1": 0.9,
          "yref": "y6"
         },
         {
          "type": "line",
          "x0": 0,
          "x1": 1,
          "xref": "x7 domain",
          "y0": 0.9,
          "y1": 0.9,
          "yref": "y7"
         },
         {
          "type": "line",
          "x0": 0,
          "x1": 1,
          "xref": "x8 domain",
          "y0": 0.9,
          "y1": 0.9,
          "yref": "y8"
         }
        ],
        "template": {
         "data": {
          "bar": [
           {
            "error_x": {
             "color": "#2a3f5f"
            },
            "error_y": {
             "color": "#2a3f5f"
            },
            "marker": {
             "line": {
              "color": "#E5ECF6",
              "width": 0.5
             },
             "pattern": {
              "fillmode": "overlay",
              "size": 10,
              "solidity": 0.2
             }
            },
            "type": "bar"
           }
          ],
          "barpolar": [
           {
            "marker": {
             "line": {
              "color": "#E5ECF6",
              "width": 0.5
             },
             "pattern": {
              "fillmode": "overlay",
              "size": 10,
              "solidity": 0.2
             }
            },
            "type": "barpolar"
           }
          ],
          "carpet": [
           {
            "aaxis": {
             "endlinecolor": "#2a3f5f",
             "gridcolor": "white",
             "linecolor": "white",
             "minorgridcolor": "white",
             "startlinecolor": "#2a3f5f"
            },
            "baxis": {
             "endlinecolor": "#2a3f5f",
             "gridcolor": "white",
             "linecolor": "white",
             "minorgridcolor": "white",
             "startlinecolor": "#2a3f5f"
            },
            "type": "carpet"
           }
          ],
          "choropleth": [
           {
            "colorbar": {
             "outlinewidth": 0,
             "ticks": ""
            },
            "type": "choropleth"
           }
          ],
          "contour": [
           {
            "colorbar": {
             "outlinewidth": 0,
             "ticks": ""
            },
            "colorscale": [
             [
              0,
              "#0d0887"
             ],
             [
              0.1111111111111111,
              "#46039f"
             ],
             [
              0.2222222222222222,
              "#7201a8"
             ],
             [
              0.3333333333333333,
              "#9c179e"
             ],
             [
              0.4444444444444444,
              "#bd3786"
             ],
             [
              0.5555555555555556,
              "#d8576b"
             ],
             [
              0.6666666666666666,
              "#ed7953"
             ],
             [
              0.7777777777777778,
              "#fb9f3a"
             ],
             [
              0.8888888888888888,
              "#fdca26"
             ],
             [
              1,
              "#f0f921"
             ]
            ],
            "type": "contour"
           }
          ],
          "contourcarpet": [
           {
            "colorbar": {
             "outlinewidth": 0,
             "ticks": ""
            },
            "type": "contourcarpet"
           }
          ],
          "heatmap": [
           {
            "colorbar": {
             "outlinewidth": 0,
             "ticks": ""
            },
            "colorscale": [
             [
              0,
              "#0d0887"
             ],
             [
              0.1111111111111111,
              "#46039f"
             ],
             [
              0.2222222222222222,
              "#7201a8"
             ],
             [
              0.3333333333333333,
              "#9c179e"
             ],
             [
              0.4444444444444444,
              "#bd3786"
             ],
             [
              0.5555555555555556,
              "#d8576b"
             ],
             [
              0.6666666666666666,
              "#ed7953"
             ],
             [
              0.7777777777777778,
              "#fb9f3a"
             ],
             [
              0.8888888888888888,
              "#fdca26"
             ],
             [
              1,
              "#f0f921"
             ]
            ],
            "type": "heatmap"
           }
          ],
          "heatmapgl": [
           {
            "colorbar": {
             "outlinewidth": 0,
             "ticks": ""
            },
            "colorscale": [
             [
              0,
              "#0d0887"
             ],
             [
              0.1111111111111111,
              "#46039f"
             ],
             [
              0.2222222222222222,
              "#7201a8"
             ],
             [
              0.3333333333333333,
              "#9c179e"
             ],
             [
              0.4444444444444444,
              "#bd3786"
             ],
             [
              0.5555555555555556,
              "#d8576b"
             ],
             [
              0.6666666666666666,
              "#ed7953"
             ],
             [
              0.7777777777777778,
              "#fb9f3a"
             ],
             [
              0.8888888888888888,
              "#fdca26"
             ],
             [
              1,
              "#f0f921"
             ]
            ],
            "type": "heatmapgl"
           }
          ],
          "histogram": [
           {
            "marker": {
             "pattern": {
              "fillmode": "overlay",
              "size": 10,
              "solidity": 0.2
             }
            },
            "type": "histogram"
           }
          ],
          "histogram2d": [
           {
            "colorbar": {
             "outlinewidth": 0,
             "ticks": ""
            },
            "colorscale": [
             [
              0,
              "#0d0887"
             ],
             [
              0.1111111111111111,
              "#46039f"
             ],
             [
              0.2222222222222222,
              "#7201a8"
             ],
             [
              0.3333333333333333,
              "#9c179e"
             ],
             [
              0.4444444444444444,
              "#bd3786"
             ],
             [
              0.5555555555555556,
              "#d8576b"
             ],
             [
              0.6666666666666666,
              "#ed7953"
             ],
             [
              0.7777777777777778,
              "#fb9f3a"
             ],
             [
              0.8888888888888888,
              "#fdca26"
             ],
             [
              1,
              "#f0f921"
             ]
            ],
            "type": "histogram2d"
           }
          ],
          "histogram2dcontour": [
           {
            "colorbar": {
             "outlinewidth": 0,
             "ticks": ""
            },
            "colorscale": [
             [
              0,
              "#0d0887"
             ],
             [
              0.1111111111111111,
              "#46039f"
             ],
             [
              0.2222222222222222,
              "#7201a8"
             ],
             [
              0.3333333333333333,
              "#9c179e"
             ],
             [
              0.4444444444444444,
              "#bd3786"
             ],
             [
              0.5555555555555556,
              "#d8576b"
             ],
             [
              0.6666666666666666,
              "#ed7953"
             ],
             [
              0.7777777777777778,
              "#fb9f3a"
             ],
             [
              0.8888888888888888,
              "#fdca26"
             ],
             [
              1,
              "#f0f921"
             ]
            ],
            "type": "histogram2dcontour"
           }
          ],
          "mesh3d": [
           {
            "colorbar": {
             "outlinewidth": 0,
             "ticks": ""
            },
            "type": "mesh3d"
           }
          ],
          "parcoords": [
           {
            "line": {
             "colorbar": {
              "outlinewidth": 0,
              "ticks": ""
             }
            },
            "type": "parcoords"
           }
          ],
          "pie": [
           {
            "automargin": true,
            "type": "pie"
           }
          ],
          "scatter": [
           {
            "fillpattern": {
             "fillmode": "overlay",
             "size": 10,
             "solidity": 0.2
            },
            "type": "scatter"
           }
          ],
          "scatter3d": [
           {
            "line": {
             "colorbar": {
              "outlinewidth": 0,
              "ticks": ""
             }
            },
            "marker": {
             "colorbar": {
              "outlinewidth": 0,
              "ticks": ""
             }
            },
            "type": "scatter3d"
           }
          ],
          "scattercarpet": [
           {
            "marker": {
             "colorbar": {
              "outlinewidth": 0,
              "ticks": ""
             }
            },
            "type": "scattercarpet"
           }
          ],
          "scattergeo": [
           {
            "marker": {
             "colorbar": {
              "outlinewidth": 0,
              "ticks": ""
             }
            },
            "type": "scattergeo"
           }
          ],
          "scattergl": [
           {
            "marker": {
             "colorbar": {
              "outlinewidth": 0,
              "ticks": ""
             }
            },
            "type": "scattergl"
           }
          ],
          "scattermapbox": [
           {
            "marker": {
             "colorbar": {
              "outlinewidth": 0,
              "ticks": ""
             }
            },
            "type": "scattermapbox"
           }
          ],
          "scatterpolar": [
           {
            "marker": {
             "colorbar": {
              "outlinewidth": 0,
              "ticks": ""
             }
            },
            "type": "scatterpolar"
           }
          ],
          "scatterpolargl": [
           {
            "marker": {
             "colorbar": {
              "outlinewidth": 0,
              "ticks": ""
             }
            },
            "type": "scatterpolargl"
           }
          ],
          "scatterternary": [
           {
            "marker": {
             "colorbar": {
              "outlinewidth": 0,
              "ticks": ""
             }
            },
            "type": "scatterternary"
           }
          ],
          "surface": [
           {
            "colorbar": {
             "outlinewidth": 0,
             "ticks": ""
            },
            "colorscale": [
             [
              0,
              "#0d0887"
             ],
             [
              0.1111111111111111,
              "#46039f"
             ],
             [
              0.2222222222222222,
              "#7201a8"
             ],
             [
              0.3333333333333333,
              "#9c179e"
             ],
             [
              0.4444444444444444,
              "#bd3786"
             ],
             [
              0.5555555555555556,
              "#d8576b"
             ],
             [
              0.6666666666666666,
              "#ed7953"
             ],
             [
              0.7777777777777778,
              "#fb9f3a"
             ],
             [
              0.8888888888888888,
              "#fdca26"
             ],
             [
              1,
              "#f0f921"
             ]
            ],
            "type": "surface"
           }
          ],
          "table": [
           {
            "cells": {
             "fill": {
              "color": "#EBF0F8"
             },
             "line": {
              "color": "white"
             }
            },
            "header": {
             "fill": {
              "color": "#C8D4E3"
             },
             "line": {
              "color": "white"
             }
            },
            "type": "table"
           }
          ]
         },
         "layout": {
          "annotationdefaults": {
           "arrowcolor": "#2a3f5f",
           "arrowhead": 0,
           "arrowwidth": 1
          },
          "autotypenumbers": "strict",
          "coloraxis": {
           "colorbar": {
            "outlinewidth": 0,
            "ticks": ""
           }
          },
          "colorscale": {
           "diverging": [
            [
             0,
             "#8e0152"
            ],
            [
             0.1,
             "#c51b7d"
            ],
            [
             0.2,
             "#de77ae"
            ],
            [
             0.3,
             "#f1b6da"
            ],
            [
             0.4,
             "#fde0ef"
            ],
            [
             0.5,
             "#f7f7f7"
            ],
            [
             0.6,
             "#e6f5d0"
            ],
            [
             0.7,
             "#b8e186"
            ],
            [
             0.8,
             "#7fbc41"
            ],
            [
             0.9,
             "#4d9221"
            ],
            [
             1,
             "#276419"
            ]
           ],
           "sequential": [
            [
             0,
             "#0d0887"
            ],
            [
             0.1111111111111111,
             "#46039f"
            ],
            [
             0.2222222222222222,
             "#7201a8"
            ],
            [
             0.3333333333333333,
             "#9c179e"
            ],
            [
             0.4444444444444444,
             "#bd3786"
            ],
            [
             0.5555555555555556,
             "#d8576b"
            ],
            [
             0.6666666666666666,
             "#ed7953"
            ],
            [
             0.7777777777777778,
             "#fb9f3a"
            ],
            [
             0.8888888888888888,
             "#fdca26"
            ],
            [
             1,
             "#f0f921"
            ]
           ],
           "sequentialminus": [
            [
             0,
             "#0d0887"
            ],
            [
             0.1111111111111111,
             "#46039f"
            ],
            [
             0.2222222222222222,
             "#7201a8"
            ],
            [
             0.3333333333333333,
             "#9c179e"
            ],
            [
             0.4444444444444444,
             "#bd3786"
            ],
            [
             0.5555555555555556,
             "#d8576b"
            ],
            [
             0.6666666666666666,
             "#ed7953"
            ],
            [
             0.7777777777777778,
             "#fb9f3a"
            ],
            [
             0.8888888888888888,
             "#fdca26"
            ],
            [
             1,
             "#f0f921"
            ]
           ]
          },
          "colorway": [
           "#636efa",
           "#EF553B",
           "#00cc96",
           "#ab63fa",
           "#FFA15A",
           "#19d3f3",
           "#FF6692",
           "#B6E880",
           "#FF97FF",
           "#FECB52"
          ],
          "font": {
           "color": "#2a3f5f"
          },
          "geo": {
           "bgcolor": "white",
           "lakecolor": "white",
           "landcolor": "#E5ECF6",
           "showlakes": true,
           "showland": true,
           "subunitcolor": "white"
          },
          "hoverlabel": {
           "align": "left"
          },
          "hovermode": "closest",
          "mapbox": {
           "style": "light"
          },
          "paper_bgcolor": "white",
          "plot_bgcolor": "#E5ECF6",
          "polar": {
           "angularaxis": {
            "gridcolor": "white",
            "linecolor": "white",
            "ticks": ""
           },
           "bgcolor": "#E5ECF6",
           "radialaxis": {
            "gridcolor": "white",
            "linecolor": "white",
            "ticks": ""
           }
          },
          "scene": {
           "xaxis": {
            "backgroundcolor": "#E5ECF6",
            "gridcolor": "white",
            "gridwidth": 2,
            "linecolor": "white",
            "showbackground": true,
            "ticks": "",
            "zerolinecolor": "white"
           },
           "yaxis": {
            "backgroundcolor": "#E5ECF6",
            "gridcolor": "white",
            "gridwidth": 2,
            "linecolor": "white",
            "showbackground": true,
            "ticks": "",
            "zerolinecolor": "white"
           },
           "zaxis": {
            "backgroundcolor": "#E5ECF6",
            "gridcolor": "white",
            "gridwidth": 2,
            "linecolor": "white",
            "showbackground": true,
            "ticks": "",
            "zerolinecolor": "white"
           }
          },
          "shapedefaults": {
           "line": {
            "color": "#2a3f5f"
           }
          },
          "ternary": {
           "aaxis": {
            "gridcolor": "white",
            "linecolor": "white",
            "ticks": ""
           },
           "baxis": {
            "gridcolor": "white",
            "linecolor": "white",
            "ticks": ""
           },
           "bgcolor": "#E5ECF6",
           "caxis": {
            "gridcolor": "white",
            "linecolor": "white",
            "ticks": ""
           }
          },
          "title": {
           "x": 0.05
          },
          "xaxis": {
           "automargin": true,
           "gridcolor": "white",
           "linecolor": "white",
           "ticks": "",
           "title": {
            "standoff": 15
           },
           "zerolinecolor": "white",
           "zerolinewidth": 2
          },
          "yaxis": {
           "automargin": true,
           "gridcolor": "white",
           "linecolor": "white",
           "ticks": "",
           "title": {
            "standoff": 15
           },
           "zerolinecolor": "white",
           "zerolinewidth": 2
          }
         }
        },
        "width": 1600,
        "xaxis": {
         "anchor": "y",
         "domain": [
          0,
          0.2275
         ],
         "range": [
          0,
          1
         ],
         "type": "linear"
        },
        "xaxis2": {
         "anchor": "y2",
         "domain": [
          0.2575,
          0.485
         ],
         "range": [
          0,
          1
         ],
         "type": "linear"
        },
        "xaxis3": {
         "anchor": "y3",
         "domain": [
          0.515,
          0.7425
         ],
         "range": [
          0,
          1
         ],
         "type": "linear"
        },
        "xaxis4": {
         "anchor": "y4",
         "domain": [
          0.7725,
          1
         ],
         "range": [
          0,
          1
         ],
         "type": "linear"
        },
        "xaxis5": {
         "anchor": "y5",
         "domain": [
          0,
          0.2275
         ],
         "range": [
          500,
          1100
         ],
         "type": "linear"
        },
        "xaxis6": {
         "anchor": "y6",
         "domain": [
          0.2575,
          0.485
         ],
         "range": [
          500,
          1100
         ],
         "type": "linear"
        },
        "xaxis7": {
         "anchor": "y7",
         "domain": [
          0.515,
          0.7425
         ],
         "range": [
          500,
          1100
         ],
         "type": "linear"
        },
        "xaxis8": {
         "anchor": "y8",
         "domain": [
          0.7725,
          1
         ],
         "range": [
          500,
          1100
         ],
         "type": "linear"
        },
        "yaxis": {
         "anchor": "x",
         "autorange": true,
         "domain": [
          0.575,
          1
         ],
         "range": [
          0.3061650733833391,
          0.9688349266166609
         ],
         "type": "linear"
        },
        "yaxis2": {
         "anchor": "x2",
         "autorange": true,
         "domain": [
          0.575,
          1
         ],
         "matches": "y",
         "range": [
          0.3061650733833391,
          0.9688349266166609
         ],
         "showticklabels": false,
         "type": "linear"
        },
        "yaxis3": {
         "anchor": "x3",
         "autorange": true,
         "domain": [
          0.575,
          1
         ],
         "matches": "y",
         "range": [
          0.3061650733833391,
          0.9688349266166609
         ],
         "showticklabels": false,
         "type": "linear"
        },
        "yaxis4": {
         "anchor": "x4",
         "autorange": true,
         "domain": [
          0.575,
          1
         ],
         "matches": "y",
         "range": [
          0.3061650733833391,
          0.9688349266166609
         ],
         "showticklabels": false,
         "type": "linear"
        },
        "yaxis5": {
         "anchor": "x5",
         "autorange": true,
         "domain": [
          0,
          0.425
         ],
         "range": [
          0.3061650733833391,
          0.9688349266166609
         ],
         "type": "linear"
        },
        "yaxis6": {
         "anchor": "x6",
         "autorange": true,
         "domain": [
          0,
          0.425
         ],
         "matches": "y5",
         "range": [
          0.3061650733833391,
          0.9688349266166609
         ],
         "showticklabels": false,
         "type": "linear"
        },
        "yaxis7": {
         "anchor": "x7",
         "autorange": true,
         "domain": [
          0,
          0.425
         ],
         "matches": "y5",
         "range": [
          0.3061650733833391,
          0.9688349266166609
         ],
         "showticklabels": false,
         "type": "linear"
        },
        "yaxis8": {
         "anchor": "x8",
         "autorange": true,
         "domain": [
          0,
          0.425
         ],
         "matches": "y5",
         "range": [
          0.3061650733833391,
          0.9688349266166609
         ],
         "showticklabels": false,
         "type": "linear"
        }
       }
      },
      "image/png": "[encoded data removed]"
     },
     "metadata": {},
     "output_type": "display_data"
    }
   ],
   "source": [
    "df = pd.read_csv(\"res_sim_gauss_var_numarm.csv\")\n",
    "idx2key = {\n",
    "    \"0\": r\"$K = 5$\",\n",
    "    \"1\": r\"$K = 10$\",\n",
    "    \"2\": r\"$K = 15$\",\n",
    "    \"3\": r\"$K = 20$\",\n",
    "}\n",
    "algos = [\"ES\", \"UES\", \"TSS\", \"UCBS\", \"EGS\", \"PSI\", \"A/B\"]\n",
    "key2data = get_key2data(df, idx2key, algos)\n",
    "print(key2data)\n",
    "fig = sd_return_fig(algos, key2data, 0.22, False, [[0.00, 1.00], [500, 1100]], 8, line_add=0.9)\n",
    "fig.add_annotation(dict(\n",
    "    font=dict(size=19),\n",
    "    x=0.4,\n",
    "    y=0.5,\n",
    "    showarrow=False,\n",
    "    text=\"Normalized averaged regrets\",\n",
    "    xanchor=\"left\",\n",
    "    xref=\"paper\",\n",
    "    yref=\"paper\",\n",
    "))\n",
    "fig.add_annotation(dict(\n",
    "    font=dict(size=19),\n",
    "    x=0.4,\n",
    "    y=-0.1,\n",
    "    showarrow=False,\n",
    "    text=\"Averaged sample size per arm\",\n",
    "    xanchor=\"left\",\n",
    "    xref=\"paper\",\n",
    "    yref=\"paper\",\n",
    "))\n",
    "\n",
    "# print(fig.layout)\n",
    "fig.show()\n",
    "plotly.io.write_image(fig, 'sim_gauss_var_numarm.pdf', format='pdf')"
   ]
  }
 ],
 "metadata": {
  "kernelspec": {
   "display_name": "Python 3 (ipykernel)",
   "language": "python",
   "name": "python3"
  },
  "language_info": {
   "codemirror_mode": {
    "name": "ipython",
    "version": 3
   },
   "file_extension": ".py",
   "mimetype": "text/x-python",
   "name": "python",
   "nbconvert_exporter": "python",
   "pygments_lexer": "ipython3",
   "version": "3.7.13"
  }
 },
 "nbformat": 4,
 "nbformat_minor": 4
}
